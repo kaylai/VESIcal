{
 "cells": [
  {
   "cell_type": "markdown",
   "metadata": {},
   "source": [
    "# Calculating equilibrium fluid compositions\n",
    "The `calculate_equilibrium_fluid_comp()` function calculates the composition of a fluid phase in equilibrium with a given silicate melt with known pressure, temperature, and dissolved H$_2$O and CO$_2$ concentrations. The calculation is performed simply by calculating the equilibrium state of the given sample at the given conditions and determining if that melt is fluid saturated. If the melt is saturated, fluid composition and mass are reported back. If the calculation finds that the melt is not saturated at the given pressure and temperature, values of 0.0 will be returned for the H$_2$O and CO$_2$ concentrations in the fluid.\n",
    "\n",
    "#SimonTODO can you write more details about how the other functions calculate equilibrium fluid comps?\n",
    "\n",
    "**Method structure:**<br>\n",
    ">Single sample: `def calculate_equilibrium_fluid_comp(self, sample, temperature, pressure, verbose=False).result`\n",
    "\n",
    ">ExcelFile batch process: `def calculate_equilibrium_fluid_comp(self, temperature, pressure, print_status=False, model='MagmaSat')`\n",
    "\n",
    "**Required inputs:**<br>\n",
    ">`sample`: *Only for single-sample calculations.* The composition of a sample. A single sample may be passed as a dictionary of values, with compositions of oxides in wt%.\n",
    "\n",
    ">`temperature` and `pressure`: the temperature in $^{\\circ}$C and the pressure in bars. Temperature and pressure of the sample or samples must be passed unless an ExcelFile object with a column for temperature and/or pressure is passed to `sample`. If a numerical (float) value is passed for either temperature or pressure, that will be the value used for one or all samples. If, alternatively, the user wishes to use temperature and/or pressure information in their ExcelFile object, the title of the column containing temperature or pressure data should be passed in quotes (as a string) to `temperature` and `pressure`, respectively. Note for batch calculations that if pressure or temperature information exists in the ExcelFile but a single numerical value is defined for one or both of these variables, both the original pressure and temperature information plus the pressure and temperature values used for the calculations will be returned.\n",
    "\n",
    "**Optional inputs:**<br>\n",
    ">`verbose`: *Only for single-sample calculations.* Default value is False. If set to True, additional parameters are returned in a dictionary: H$_2$O and CO$_2$ concentrations in the fluid, mass of the fluid in grams, and proportion of the fluid in the system in wt%. \n",
    "\n",
    ">`print_status`: *Only for ExcelFile batch calcualtions.* The default value is False. If True is passed, the progress of the calculation will be printed to the terminal.\n",
    "\n",
    "**Calculated outputs:**<br>\n",
    ">If a single sample is passed to `sample`, a dictionary with keys 'H2O' and 'CO2' is returned (plus additional variables 'FluidMass_grams' and 'FluidProportion_wtper' if `verbose` is set to True). \n",
    "\n",
    ">If mutliple samples are passed as an ExcelFile object, a pandas DataFrame is returned with sample information plus calculated equilibrium fluid compositions, mass of the fluid in grams, and proportion of the fluid in the system in wt%. Pressure (in bars) and Temperature (in $^{\\circ}$C) columns are always returned."
   ]
  },
  {
   "cell_type": "code",
   "execution_count": 1,
   "metadata": {
    "execution": {
     "iopub.execute_input": "2024-04-12T22:13:44.186555Z",
     "iopub.status.busy": "2024-04-12T22:13:44.186234Z",
     "iopub.status.idle": "2024-04-12T22:13:47.424596Z",
     "shell.execute_reply": "2024-04-12T22:13:47.423662Z"
    }
   },
   "outputs": [],
   "source": [
    "import sys\n",
    "sys.path.insert(0, '../')\n",
    "\n",
    "import VESIcal as v"
   ]
  },
  {
   "cell_type": "markdown",
   "metadata": {},
   "source": [
    "## For an entire dataset\n",
    "\n",
    "### Import an Excel file"
   ]
  },
  {
   "cell_type": "code",
   "execution_count": 2,
   "metadata": {
    "execution": {
     "iopub.execute_input": "2024-04-12T22:13:47.429092Z",
     "iopub.status.busy": "2024-04-12T22:13:47.428732Z",
     "iopub.status.idle": "2024-04-12T22:13:47.475906Z",
     "shell.execute_reply": "2024-04-12T22:13:47.474828Z"
    }
   },
   "outputs": [],
   "source": [
    "myfile = v.BatchFile('../../manuscript/example_data.xlsx')"
   ]
  },
  {
   "cell_type": "markdown",
   "metadata": {},
   "source": [
    "### Do the calculation"
   ]
  },
  {
   "cell_type": "code",
   "execution_count": 3,
   "metadata": {
    "execution": {
     "iopub.execute_input": "2024-04-12T22:13:47.479758Z",
     "iopub.status.busy": "2024-04-12T22:13:47.479450Z",
     "iopub.status.idle": "2024-04-12T22:13:57.691586Z",
     "shell.execute_reply": "2024-04-12T22:13:57.691036Z"
    }
   },
   "outputs": [
    {
     "name": "stdout",
     "output_type": "stream",
     "text": [
      "Saved ../tables/eqfluid.csv\n"
     ]
    }
   ],
   "source": [
    "eqfluid = myfile.calculate_equilibrium_fluid_comp(temperature=900.0, pressure=200.0)\n",
    "eqfluid\n",
    "\n",
    "myfile.save_csv(\"../tables/eqfluid.csv\", eqfluid)"
   ]
  },
  {
   "cell_type": "markdown",
   "metadata": {},
   "source": [
    "## For a single sample\n",
    "\n",
    "### Extract a single sample from your dataset"
   ]
  },
  {
   "cell_type": "code",
   "execution_count": 4,
   "metadata": {
    "execution": {
     "iopub.execute_input": "2024-04-12T22:13:57.727550Z",
     "iopub.status.busy": "2024-04-12T22:13:57.727294Z",
     "iopub.status.idle": "2024-04-12T22:13:57.731333Z",
     "shell.execute_reply": "2024-04-12T22:13:57.730753Z"
    }
   },
   "outputs": [],
   "source": [
    "SampleName = 'BT-ex'\n",
    "extracted_bulk_comp = myfile.get_sample_composition(SampleName, asSampleClass=True)"
   ]
  },
  {
   "cell_type": "markdown",
   "metadata": {},
   "source": [
    "### Do the calculation"
   ]
  },
  {
   "cell_type": "code",
   "execution_count": 5,
   "metadata": {
    "execution": {
     "iopub.execute_input": "2024-04-12T22:13:57.734353Z",
     "iopub.status.busy": "2024-04-12T22:13:57.734090Z",
     "iopub.status.idle": "2024-04-12T22:13:58.454103Z",
     "shell.execute_reply": "2024-04-12T22:13:58.453505Z"
    }
   },
   "outputs": [
    {
     "data": {
      "text/plain": [
       "{'CO2': 0.00505423509725724, 'H2O': 0.994945764902743}"
      ]
     },
     "execution_count": 5,
     "metadata": {},
     "output_type": "execute_result"
    }
   ],
   "source": [
    "v.calculate_equilibrium_fluid_comp(sample=extracted_bulk_comp, temperature=900.0, pressure=200.0).result"
   ]
  },
  {
   "cell_type": "code",
   "execution_count": 6,
   "metadata": {
    "execution": {
     "iopub.execute_input": "2024-04-12T22:13:58.456910Z",
     "iopub.status.busy": "2024-04-12T22:13:58.456682Z",
     "iopub.status.idle": "2024-04-12T22:13:58.491168Z",
     "shell.execute_reply": "2024-04-12T22:13:58.490512Z"
    }
   },
   "outputs": [
    {
     "name": "stdout",
     "output_type": "stream",
     "text": [
      "Saved eqfluid.xlsx\n"
     ]
    }
   ],
   "source": [
    "myfile.save_excel('eqfluid.xlsx', calculations=[eqfluid])"
   ]
  }
 ],
 "metadata": {
  "kernelspec": {
   "display_name": "Python 3",
   "language": "python",
   "name": "python3"
  },
  "language_info": {
   "codemirror_mode": {
    "name": "ipython",
    "version": 3
   },
   "file_extension": ".py",
   "mimetype": "text/x-python",
   "name": "python",
   "nbconvert_exporter": "python",
   "pygments_lexer": "ipython3",
   "version": "3.10.8"
  },
  "toc": {
   "base_numbering": 1,
   "nav_menu": {},
   "number_sections": true,
   "sideBar": true,
   "skip_h1_title": false,
   "title_cell": "Table of Contents",
   "title_sidebar": "Contents",
   "toc_cell": false,
   "toc_position": {},
   "toc_section_display": true,
   "toc_window_display": false
  }
 },
 "nbformat": 4,
 "nbformat_minor": 4
}
