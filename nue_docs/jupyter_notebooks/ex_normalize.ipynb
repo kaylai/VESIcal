{
 "cells": [
  {
   "cell_type": "markdown",
   "metadata": {},
   "source": [
    "# Normalizing and Transforming Data"
   ]
  },
  {
   "cell_type": "markdown",
   "metadata": {},
   "source": [
    "Before performing model calculations on your data, it may be desired to normalize the input composition to a total of 100 wt%. VESIcal has multiple methods for normalizing sample data using various routines. Normalization can be done automatically when retrieving a single sample from an Excel file, as detailed above. Each of the normalization routines can be accessed by the user at any time to normalize either a signle sample or all samples in an ExcelFile object. \n",
    "\n",
    "All three normalization functions can take in either a single composition as a dictionary or multiple compositions either as an ExcelFile object or a pandas DataFrame object (e.g., `yourexcelfile` or `yourexcelfile.data`). The standard normalize functino returns the composition normalized to 100%, including any volatiles. The FixedVolatiles function normalizes the oxides to 100%, but volatiles remain fixed while other major element oxides are reduced proporitonally so that the total is 100 wt%. The AdditionalVolatiles function normalizes oxides to 100% assuming the sample is volatile-free. If H$_2$O or CO$_2$ concentrations are passed to the function, their un-normalized values will be retained in addition to the normalized non-volatile oxides, summing to >100%."
   ]
  },
  {
   "cell_type": "code",
   "execution_count": 1,
   "metadata": {
    "execution": {
     "iopub.execute_input": "2024-04-12T22:14:01.689311Z",
     "iopub.status.busy": "2024-04-12T22:14:01.688958Z",
     "iopub.status.idle": "2024-04-12T22:14:03.545935Z",
     "shell.execute_reply": "2024-04-12T22:14:03.545106Z"
    }
   },
   "outputs": [],
   "source": [
    "import sys\n",
    "sys.path.insert(0, '../')\n",
    "\n",
    "import VESIcal as v"
   ]
  },
  {
   "cell_type": "markdown",
   "metadata": {},
   "source": [
    "## Normalizing an entire dataset\n",
    "### Import an Excel file"
   ]
  },
  {
   "cell_type": "code",
   "execution_count": 2,
   "metadata": {
    "execution": {
     "iopub.execute_input": "2024-04-12T22:14:03.549812Z",
     "iopub.status.busy": "2024-04-12T22:14:03.549437Z",
     "iopub.status.idle": "2024-04-12T22:14:03.586174Z",
     "shell.execute_reply": "2024-04-12T22:14:03.585663Z"
    }
   },
   "outputs": [],
   "source": [
    "myfile = v.BatchFile('../../manuscript/example_data.xlsx')"
   ]
  },
  {
   "cell_type": "markdown",
   "metadata": {},
   "source": [
    "### Standard Normalization\n",
    "Returns the composition normalized to 100%, including any volatiles."
   ]
  },
  {
   "cell_type": "code",
   "execution_count": 3,
   "metadata": {
    "execution": {
     "iopub.execute_input": "2024-04-12T22:14:03.589165Z",
     "iopub.status.busy": "2024-04-12T22:14:03.588942Z",
     "iopub.status.idle": "2024-04-12T22:14:03.611353Z",
     "shell.execute_reply": "2024-04-12T22:14:03.610834Z"
    }
   },
   "outputs": [
    {
     "name": "stdout",
     "output_type": "stream",
     "text": [
      "Saved ../tables/NormStandard.csv\n"
     ]
    }
   ],
   "source": [
    "standard = myfile.get_data(normalization='standard')\n",
    "standard\n",
    "\n",
    "myfile.save_csv(\"../tables/NormStandard.csv\", standard)"
   ]
  },
  {
   "cell_type": "markdown",
   "metadata": {},
   "source": [
    "### FixedVolatiles Normalization\n",
    "Normalizes the oxides to 100%, but volatiles remain fixed while other major element oxides are reduced proporitonally so that the total is 100 wt%."
   ]
  },
  {
   "cell_type": "code",
   "execution_count": 4,
   "metadata": {
    "execution": {
     "iopub.execute_input": "2024-04-12T22:14:03.646590Z",
     "iopub.status.busy": "2024-04-12T22:14:03.646326Z",
     "iopub.status.idle": "2024-04-12T22:14:03.763489Z",
     "shell.execute_reply": "2024-04-12T22:14:03.754807Z"
    },
    "scrolled": true
   },
   "outputs": [
    {
     "name": "stdout",
     "output_type": "stream",
     "text": [
      "Saved ../tables/NormFixedVolatiles.csv\n"
     ]
    }
   ],
   "source": [
    "fixed_vols = myfile.get_data(normalization='fixedvolatiles')\n",
    "fixed_vols\n",
    "\n",
    "myfile.save_csv(\"../tables/NormFixedVolatiles.csv\", fixed_vols)"
   ]
  },
  {
   "cell_type": "markdown",
   "metadata": {},
   "source": [
    "### AdditionalVolatiles Normalization"
   ]
  },
  {
   "cell_type": "markdown",
   "metadata": {},
   "source": [
    "Normalizes oxides to 100% assuming the sample is volatile-free. If H$_2$O or CO$_2$ concentrations are passed to the function, their un-normalized values will be retained in addition to the normalized non-volatile oxides, summing to >100%."
   ]
  },
  {
   "cell_type": "code",
   "execution_count": 5,
   "metadata": {
    "execution": {
     "iopub.execute_input": "2024-04-12T22:14:03.774791Z",
     "iopub.status.busy": "2024-04-12T22:14:03.774405Z",
     "iopub.status.idle": "2024-04-12T22:14:03.938483Z",
     "shell.execute_reply": "2024-04-12T22:14:03.937806Z"
    }
   },
   "outputs": [
    {
     "name": "stdout",
     "output_type": "stream",
     "text": [
      "Saved ../tables/NormAdditionalVolatiles.csv\n"
     ]
    }
   ],
   "source": [
    "additional = myfile.get_data(normalization='additionalvolatiles')\n",
    "additional\n",
    "\n",
    "myfile.save_csv(\"../tables/NormAdditionalVolatiles.csv\", additional)"
   ]
  },
  {
   "cell_type": "markdown",
   "metadata": {},
   "source": [
    "## Normalize a single sample composition"
   ]
  },
  {
   "cell_type": "markdown",
   "metadata": {},
   "source": [
    "### Extract a single sample from your dataset"
   ]
  },
  {
   "cell_type": "code",
   "execution_count": 6,
   "metadata": {
    "execution": {
     "iopub.execute_input": "2024-04-12T22:14:03.941744Z",
     "iopub.status.busy": "2024-04-12T22:14:03.941489Z",
     "iopub.status.idle": "2024-04-12T22:14:03.945668Z",
     "shell.execute_reply": "2024-04-12T22:14:03.945048Z"
    }
   },
   "outputs": [],
   "source": [
    "SampleName = 'BT-ex'\n",
    "extracted_bulk_comp = myfile.get_sample_composition(SampleName, asSampleClass=True)"
   ]
  },
  {
   "cell_type": "markdown",
   "metadata": {},
   "source": [
    "The normalization type can be passed to get_sample_composition directly:\n",
    "\n",
    "```python\n",
    "extracted_bulk_comp = myfile.get_sample_composition(SampleName, normalization=<normalization-type>, asSampleClass=True)\n",
    "```\n",
    "\n",
    "Or, normalization can be done to any Sample object, as shown below."
   ]
  },
  {
   "cell_type": "markdown",
   "metadata": {},
   "source": [
    "### Standard Normalization"
   ]
  },
  {
   "cell_type": "code",
   "execution_count": 7,
   "metadata": {
    "execution": {
     "iopub.execute_input": "2024-04-12T22:14:03.948781Z",
     "iopub.status.busy": "2024-04-12T22:14:03.948528Z",
     "iopub.status.idle": "2024-04-12T22:14:03.956185Z",
     "shell.execute_reply": "2024-04-12T22:14:03.955590Z"
    }
   },
   "outputs": [
    {
     "data": {
      "text/plain": [
       "SiO2     73.369308\n",
       "TiO2      0.075736\n",
       "Al2O3    11.833759\n",
       "Fe2O3     0.195967\n",
       "Cr2O3     0.000000\n",
       "FeO       0.447789\n",
       "MnO       0.000000\n",
       "MgO       0.028401\n",
       "NiO       0.000000\n",
       "CoO       0.000000\n",
       "CaO       0.407081\n",
       "Na2O      3.767869\n",
       "K2O       4.619900\n",
       "P2O5      0.000000\n",
       "H2O       5.206854\n",
       "CO2       0.047335\n",
       "dtype: float64"
      ]
     },
     "execution_count": 7,
     "metadata": {},
     "output_type": "execute_result"
    }
   ],
   "source": [
    "single_standard = extracted_bulk_comp.get_composition(normalization=\"standard\")\n",
    "single_standard"
   ]
  },
  {
   "cell_type": "markdown",
   "metadata": {},
   "source": [
    "### FixedVolatiles Normalization"
   ]
  },
  {
   "cell_type": "code",
   "execution_count": 8,
   "metadata": {
    "execution": {
     "iopub.execute_input": "2024-04-12T22:14:03.959297Z",
     "iopub.status.busy": "2024-04-12T22:14:03.959039Z",
     "iopub.status.idle": "2024-04-12T22:14:03.969819Z",
     "shell.execute_reply": "2024-04-12T22:14:03.969296Z"
    }
   },
   "outputs": [
    {
     "data": {
      "text/plain": [
       "SiO2     73.140238\n",
       "TiO2      0.075500\n",
       "Al2O3    11.796813\n",
       "Fe2O3     0.195355\n",
       "Cr2O3     0.000000\n",
       "FeO       0.446391\n",
       "MnO       0.000000\n",
       "MgO       0.028312\n",
       "NiO       0.000000\n",
       "CoO       0.000000\n",
       "CaO       0.405810\n",
       "Na2O      3.756105\n",
       "K2O       4.605476\n",
       "P2O5      0.000000\n",
       "CO2       0.050000\n",
       "H2O       5.500000\n",
       "dtype: float64"
      ]
     },
     "execution_count": 8,
     "metadata": {},
     "output_type": "execute_result"
    }
   ],
   "source": [
    "single_fixed = extracted_bulk_comp.get_composition(normalization=\"fixedvolatiles\")\n",
    "single_fixed"
   ]
  },
  {
   "cell_type": "markdown",
   "metadata": {},
   "source": [
    "### AdditionalVolatiles Normalization"
   ]
  },
  {
   "cell_type": "code",
   "execution_count": 9,
   "metadata": {
    "execution": {
     "iopub.execute_input": "2024-04-12T22:14:03.972659Z",
     "iopub.status.busy": "2024-04-12T22:14:03.972449Z",
     "iopub.status.idle": "2024-04-12T22:14:03.982662Z",
     "shell.execute_reply": "2024-04-12T22:14:03.981971Z"
    }
   },
   "outputs": [
    {
     "data": {
      "text/plain": [
       "SiO2     77.438050\n",
       "TiO2      0.079936\n",
       "Al2O3    12.490008\n",
       "Fe2O3     0.206835\n",
       "Cr2O3     0.000000\n",
       "FeO       0.472622\n",
       "MnO       0.000000\n",
       "MgO       0.029976\n",
       "NiO       0.000000\n",
       "CoO       0.000000\n",
       "CaO       0.429656\n",
       "Na2O      3.976819\n",
       "K2O       4.876099\n",
       "P2O5      0.000000\n",
       "H2O       5.500000\n",
       "CO2       0.050000\n",
       "dtype: float64"
      ]
     },
     "execution_count": 9,
     "metadata": {},
     "output_type": "execute_result"
    }
   ],
   "source": [
    "single_additional = extracted_bulk_comp.get_composition(normalization=\"additionalvolatiles\")\n",
    "single_additional"
   ]
  },
  {
   "cell_type": "code",
   "execution_count": 10,
   "metadata": {
    "execution": {
     "iopub.execute_input": "2024-04-12T22:14:03.985602Z",
     "iopub.status.busy": "2024-04-12T22:14:03.985393Z",
     "iopub.status.idle": "2024-04-12T22:14:04.035613Z",
     "shell.execute_reply": "2024-04-12T22:14:04.035072Z"
    }
   },
   "outputs": [
    {
     "name": "stdout",
     "output_type": "stream",
     "text": [
      "Saved ex_normalize_tables.xlsx\n"
     ]
    }
   ],
   "source": [
    "myfile.save_excel(filename='ex_normalize_tables.xlsx', calculations=[standard, fixed_vols, additional])"
   ]
  }
 ],
 "metadata": {
  "kernelspec": {
   "display_name": "Python 3",
   "language": "python",
   "name": "python3"
  },
  "language_info": {
   "codemirror_mode": {
    "name": "ipython",
    "version": 3
   },
   "file_extension": ".py",
   "mimetype": "text/x-python",
   "name": "python",
   "nbconvert_exporter": "python",
   "pygments_lexer": "ipython3",
   "version": "3.10.8"
  },
  "toc": {
   "base_numbering": 1,
   "nav_menu": {},
   "number_sections": true,
   "sideBar": true,
   "skip_h1_title": false,
   "title_cell": "Table of Contents",
   "title_sidebar": "Contents",
   "toc_cell": false,
   "toc_position": {},
   "toc_section_display": true,
   "toc_window_display": false
  }
 },
 "nbformat": 4,
 "nbformat_minor": 4
}
