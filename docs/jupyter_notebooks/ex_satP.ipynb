{
 "cells": [
  {
   "cell_type": "markdown",
   "metadata": {},
   "source": [
    "# Calculating saturation presures\n",
    "The `calculate_saturation_pressure()` function calculates the minimum pressure at which a given silicate melt with known temperature and H$_2$O and CO$_2$ concentrations would be saturated with fluid. This is calcualted by finding the pressure at which the smallest amount of vapor is present. This function also calculates the composition of the vapor in equilibrium with the melt at those conditions.\n",
    "\n",
    "The function works by calculating the equilibrium state of the given melt at very high pressure (2,000 MPa) and then decreasing the pressure in steps of 100 MPa until the mass of vapor is >0 grams. At this point, the pressure space is narrowed and searched in steps of 10 MPa and then in steps of 1 MPa until the saturation pressure is found.\n",
    "\n",
    "**Method structure:**<br>\n",
    ">Single sample: `def calculate_saturation_pressure(self, sample, temperature, verbose=False).result`\n",
    "\n",
    ">ExcelFile batch process: `def calculate_saturation_pressure(self, temperature, print_status=False)`\n",
    "\n",
    "**Required inputs:**<br>\n",
    "> `sample`: *Only for single-sample calculations.* The composition of the melt, inclusing the H$_2$O and CO$_2$ concentrations, in wt%.\n",
    "\n",
    "> `temperature`: The temperature in °C. For ExcelFile batch calculations, if temperature information is present in the ExcelFile (e.g., as a column with unique temperature values for each sample), this can be accessed by passing the column name in quotes to the temperature variable.\n",
    "\n",
    "**Optional inputs:**<br>\n",
    "> `verbose`: *Only for single-sample calculations.* Default value is False. If set to True, additional parameters are returned in a dictionary: saturation pressure in bars, H$_2$O and CO$_2$ concentrations in the fluid, mass of the fluid in grams, and proportion of the fluid in the system in wt%.\n",
    "\n",
    "> `print_status`: *Only for ExcelFile batch calcualtions.* The default value is False. If True is passed, the progress of the calculation will be printed to the terminal.\n",
    "\n",
    "**Calculated outputs:**<br>\n",
    ">If a single sample is passed to `sample`, the saturation pressure in bars is returned as a numerical value (float) (plus additional variables 'XH2O_fl', 'XCO2_fl', 'FluidMass_grams', and 'FluidProportion_wtper' if `verbose` is set to True). \n",
    "\n",
    ">If mutliple samples are passed as an ExcelFile object, a pandas DataFrame is returned with sample information plus calculated saturation pressures, equilibrium fluid compositions, mass of the fluid in grams, and proportion of the fluid in the system in wt%. Temperature (in $^{\\circ}$C) is always returned."
   ]
  },
  {
   "cell_type": "code",
   "execution_count": 1,
   "metadata": {
    "execution": {
     "iopub.execute_input": "2024-03-28T22:17:39.303423Z",
     "iopub.status.busy": "2024-03-28T22:17:39.302612Z",
     "iopub.status.idle": "2024-03-28T22:17:41.106293Z",
     "shell.execute_reply": "2024-03-28T22:17:41.106655Z"
    }
   },
   "outputs": [
    {
     "name": "stderr",
     "output_type": "stream",
     "text": [
      "/opt/anaconda3/lib/python3.9/site-packages/numdifftools/extrapolation.py:10: DeprecationWarning: Please use `convolve1d` from the `scipy.ndimage` namespace, the `scipy.ndimage.filters` namespace is deprecated.\n",
      "  from scipy.ndimage.filters import convolve1d\n",
      "/opt/anaconda3/lib/python3.9/site-packages/numdifftools/multicomplex.py:35: DeprecationWarning: `finfo.machar` is deprecated (NumPy 1.22)\n",
      "  _TINY = np.finfo(float).machar.tiny\n"
     ]
    }
   ],
   "source": [
    "import sys\n",
    "sys.path.insert(0, '../')\n",
    "\n",
    "import VESIcal as v"
   ]
  },
  {
   "cell_type": "markdown",
   "metadata": {},
   "source": [
    "## For an entire dataset\n",
    "\n",
    "### Import an Excel file"
   ]
  },
  {
   "cell_type": "code",
   "execution_count": 2,
   "metadata": {
    "execution": {
     "iopub.execute_input": "2024-03-28T22:17:41.110636Z",
     "iopub.status.busy": "2024-03-28T22:17:41.110056Z",
     "iopub.status.idle": "2024-03-28T22:17:41.146077Z",
     "shell.execute_reply": "2024-03-28T22:17:41.146396Z"
    }
   },
   "outputs": [],
   "source": [
    "myfile = v.BatchFile('../../manuscript/example_data.xlsx')"
   ]
  },
  {
   "cell_type": "markdown",
   "metadata": {},
   "source": [
    "### Do the calculation"
   ]
  },
  {
   "cell_type": "code",
   "execution_count": 3,
   "metadata": {
    "execution": {
     "iopub.execute_input": "2024-03-28T22:17:41.150567Z",
     "iopub.status.busy": "2024-03-28T22:17:41.150038Z",
     "iopub.status.idle": "2024-03-28T22:17:58.794646Z",
     "shell.execute_reply": "2024-03-28T22:17:58.795096Z"
    }
   },
   "outputs": [
    {
     "name": "stdout",
     "output_type": "stream",
     "text": [
      "[====================] 100%  Working on sample Ma57-3c.2                            \n",
      "Saved ../tables/sats.csv\n"
     ]
    }
   ],
   "source": [
    "satPs = myfile.calculate_saturation_pressure(temperature=925.0)\n",
    "satPs\n",
    "\n",
    "myfile.save_csv('../tables/sats.csv', calculations=satPs)"
   ]
  },
  {
   "cell_type": "markdown",
   "metadata": {},
   "source": [
    "## For a single sample\n",
    "\n",
    "### Extract a single sample from your dataset"
   ]
  },
  {
   "cell_type": "code",
   "execution_count": 4,
   "metadata": {
    "execution": {
     "iopub.execute_input": "2024-03-28T22:17:58.800624Z",
     "iopub.status.busy": "2024-03-28T22:17:58.799589Z",
     "iopub.status.idle": "2024-03-28T22:17:58.802694Z",
     "shell.execute_reply": "2024-03-28T22:17:58.803514Z"
    }
   },
   "outputs": [],
   "source": [
    "SampleName = 'BT-ex'\n",
    "extracted_bulk_comp = myfile.get_sample_composition(SampleName, asSampleClass=True)"
   ]
  },
  {
   "cell_type": "markdown",
   "metadata": {},
   "source": [
    "### Do the calculation"
   ]
  },
  {
   "cell_type": "code",
   "execution_count": 5,
   "metadata": {
    "execution": {
     "iopub.execute_input": "2024-03-28T22:17:58.808965Z",
     "iopub.status.busy": "2024-03-28T22:17:58.808079Z",
     "iopub.status.idle": "2024-03-28T22:18:00.053284Z",
     "shell.execute_reply": "2024-03-28T22:18:00.053774Z"
    }
   },
   "outputs": [
    {
     "data": {
      "text/plain": [
       "2490.0"
      ]
     },
     "execution_count": 5,
     "metadata": {},
     "output_type": "execute_result"
    }
   ],
   "source": [
    "v.calculate_saturation_pressure(sample=extracted_bulk_comp, temperature=925.0).result"
   ]
  },
  {
   "cell_type": "code",
   "execution_count": null,
   "metadata": {},
   "outputs": [],
   "source": []
  }
 ],
 "metadata": {
  "kernelspec": {
   "display_name": "Python 3",
   "language": "python",
   "name": "python3"
  },
  "language_info": {
   "codemirror_mode": {
    "name": "ipython",
    "version": 3
   },
   "file_extension": ".py",
   "mimetype": "text/x-python",
   "name": "python",
   "nbconvert_exporter": "python",
   "pygments_lexer": "ipython3",
   "version": "3.9.7"
  }
 },
 "nbformat": 4,
 "nbformat_minor": 4
}
