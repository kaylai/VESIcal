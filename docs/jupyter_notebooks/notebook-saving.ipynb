{
 "cells": [
  {
   "cell_type": "markdown",
   "id": "411e2158",
   "metadata": {},
   "source": [
    "# Saving Calculations\n",
    "\n",
    "This is a full working example of how to save single Sample or BatchFile calculations to a CSV or Excel file."
   ]
  },
  {
   "cell_type": "code",
   "execution_count": 4,
   "id": "5e91ff22",
   "metadata": {},
   "outputs": [
    {
     "data": {
      "text/plain": [
       "<module 'VESIcal.utils' from '/Users/kiacovino/PythonGit/VESIcal/VESIcal/utils/__init__.py'>"
      ]
     },
     "execution_count": 4,
     "metadata": {},
     "output_type": "execute_result"
    }
   ],
   "source": [
    "v.utils"
   ]
  },
  {
   "cell_type": "code",
   "execution_count": 1,
   "id": "e2dce01e",
   "metadata": {},
   "outputs": [],
   "source": [
    "import VESIcal as v\n",
    "\n",
    "single_dict = {\"H2O\": 1, \"CO2\": 2}\n",
    "v.save_results(\"ts_single_dict.csv\", single_dict)\n",
    "\n",
    "dict_and_desc = [single_dict, \"a dict\"]\n",
    "dict_and_desc[0]\n",
    "v.save_results(\"ts_dict_and_desc.csv\", dict_and_desc[0])\n",
    "\n",
    "v.save_results(\"list_of_numbers.csv\", [1, 2, 3])\n",
    "\n",
    "v.save_results(\"float.csv\", 5)"
   ]
  },
  {
   "cell_type": "markdown",
   "id": "4bded695",
   "metadata": {},
   "source": [
    "## Single Sample\n",
    "This example creates a Sample, calculates the saturation pressure, and then exports the result to a CSV file and to an Excel file."
   ]
  },
  {
   "cell_type": "code",
   "execution_count": null,
   "id": "901e8641",
   "metadata": {},
   "outputs": [
    {
     "name": "stdout",
     "output_type": "stream",
     "text": [
      "Finding saturation point... duanDriver-2: t = 1473.15, p = 18000, z = 3.14825, v = 2.14229, delv = 0, dx = -2.41974e-14, iter = 44\n",
      "[====================] 100% Calculating degassing path...\n",
      "Calculating isobar at 1000 bars\n",
      " done.                                                                                                                           \n",
      "Calculating isobar at 2000 bars\n",
      " done.                                                                                                                           \n",
      "Done!\n",
      "** On entry to DLASCL, parameter number  4 had an illegal value\n",
      "** On entry to DLASCL, parameter number  4 had an illegal value\n",
      "<class 'dict'>\n"
     ]
    }
   ],
   "source": [
    "mysample = v.Sample({\n",
    "    'SiO2': 77.5,\n",
    "    'TiO2': 0.08,\n",
    "    'Al2O3': 12.5,\n",
    "    'Fe2O3': 0.207,\n",
    "    'Cr2O3': 0.0,\n",
    "    'FeO': 0.473,\n",
    "    'MnO': 0.0,\n",
    "    'MgO': 0.03,\n",
    "    'NiO': 0.0,\n",
    "    'CoO': 0.0,\n",
    "    'CaO': 0.43,\n",
    "    'Na2O': 3.98,\n",
    "    'K2O': 4.88,\n",
    "    'P2O5': 0.0,\n",
    "    'H2O': 5.5,\n",
    "    'CO2': 0.05\n",
    "})\n",
    "\n",
    "satP = v.calculate_saturation_pressure(sample=mysample, temperature=1200)\n",
    "diss = v.calculate_dissolved_volatiles(sample=mysample, pressure=1000, temperature=1200)\n",
    "degas = v.calculate_degassing_path(sample=mysample, temperature=1200)\n",
    "eqfl = v.calculate_equilibrium_fluid_comp(sample=mysample, pressure=1000, temperature=1200)\n",
    "isobars = v.calculate_isobars_and_isopleths(sample=mysample, pressure_list=[1000, 2000], temperature=1200, model=\"IaconoMarziano\")\n",
    "\n",
    "v.save_to_file(\"satP.csv\", satP)\n",
    "v.save_to_file(\"diss.csv\", diss)\n",
    "# v.save_to_file(\"degas.csv\", degas)\n",
    "# v.save_to_file(\"eqfl.csv\", eqfl)\n",
    "# v.save_to_file(\"isobars.csv\", isobars)"
   ]
  },
  {
   "cell_type": "code",
   "execution_count": 3,
   "id": "06b1e92e",
   "metadata": {},
   "outputs": [
    {
     "name": "stdout",
     "output_type": "stream",
     "text": [
      "<class 'dict'>\n",
      "<class 'pandas.core.frame.DataFrame'>\n",
      "<class 'dict'>\n",
      "<class 'tuple'>\n"
     ]
    }
   ],
   "source": [
    "v.save_to_file(\"satP.csv\", satP)\n",
    "v.save_to_file(\"diss.csv\", diss)\n",
    "v.save_to_file(\"degas.csv\", degas)\n",
    "v.save_to_file(\"eqfl.csv\", eqfl)\n",
    "v.save_to_file(\"isobars.csv\", isobars)"
   ]
  },
  {
   "cell_type": "code",
   "execution_count": 6,
   "id": "ac988b81",
   "metadata": {},
   "outputs": [
    {
     "data": {
      "text/html": [
       "<div>\n",
       "<style scoped>\n",
       "    .dataframe tbody tr th:only-of-type {\n",
       "        vertical-align: middle;\n",
       "    }\n",
       "\n",
       "    .dataframe tbody tr th {\n",
       "        vertical-align: top;\n",
       "    }\n",
       "\n",
       "    .dataframe thead th {\n",
       "        text-align: right;\n",
       "    }\n",
       "</style>\n",
       "<table border=\"1\" class=\"dataframe\">\n",
       "  <thead>\n",
       "    <tr style=\"text-align: right;\">\n",
       "      <th></th>\n",
       "      <th>Pressure</th>\n",
       "      <th>H2O_liq</th>\n",
       "      <th>CO2_liq</th>\n",
       "    </tr>\n",
       "  </thead>\n",
       "  <tbody>\n",
       "    <tr>\n",
       "      <th>0</th>\n",
       "      <td>1000</td>\n",
       "      <td>0.000000</td>\n",
       "      <td>0.059555</td>\n",
       "    </tr>\n",
       "    <tr>\n",
       "      <th>1</th>\n",
       "      <td>1000</td>\n",
       "      <td>0.079512</td>\n",
       "      <td>0.059979</td>\n",
       "    </tr>\n",
       "    <tr>\n",
       "      <th>2</th>\n",
       "      <td>1000</td>\n",
       "      <td>0.159024</td>\n",
       "      <td>0.060302</td>\n",
       "    </tr>\n",
       "    <tr>\n",
       "      <th>3</th>\n",
       "      <td>1000</td>\n",
       "      <td>0.238537</td>\n",
       "      <td>0.060527</td>\n",
       "    </tr>\n",
       "    <tr>\n",
       "      <th>4</th>\n",
       "      <td>1000</td>\n",
       "      <td>0.318049</td>\n",
       "      <td>0.060656</td>\n",
       "    </tr>\n",
       "    <tr>\n",
       "      <th>...</th>\n",
       "      <td>...</td>\n",
       "      <td>...</td>\n",
       "      <td>...</td>\n",
       "    </tr>\n",
       "    <tr>\n",
       "      <th>95</th>\n",
       "      <td>2000</td>\n",
       "      <td>5.500743</td>\n",
       "      <td>0.017310</td>\n",
       "    </tr>\n",
       "    <tr>\n",
       "      <th>96</th>\n",
       "      <td>2000</td>\n",
       "      <td>5.622981</td>\n",
       "      <td>0.013030</td>\n",
       "    </tr>\n",
       "    <tr>\n",
       "      <th>97</th>\n",
       "      <td>2000</td>\n",
       "      <td>5.745220</td>\n",
       "      <td>0.008720</td>\n",
       "    </tr>\n",
       "    <tr>\n",
       "      <th>98</th>\n",
       "      <td>2000</td>\n",
       "      <td>5.867459</td>\n",
       "      <td>0.004385</td>\n",
       "    </tr>\n",
       "    <tr>\n",
       "      <th>99</th>\n",
       "      <td>2000</td>\n",
       "      <td>5.989698</td>\n",
       "      <td>0.000029</td>\n",
       "    </tr>\n",
       "  </tbody>\n",
       "</table>\n",
       "<p>100 rows × 3 columns</p>\n",
       "</div>"
      ],
      "text/plain": [
       "    Pressure   H2O_liq   CO2_liq\n",
       "0       1000  0.000000  0.059555\n",
       "1       1000  0.079512  0.059979\n",
       "2       1000  0.159024  0.060302\n",
       "3       1000  0.238537  0.060527\n",
       "4       1000  0.318049  0.060656\n",
       "..       ...       ...       ...\n",
       "95      2000  5.500743  0.017310\n",
       "96      2000  5.622981  0.013030\n",
       "97      2000  5.745220  0.008720\n",
       "98      2000  5.867459  0.004385\n",
       "99      2000  5.989698  0.000029\n",
       "\n",
       "[100 rows x 3 columns]"
      ]
     },
     "execution_count": 6,
     "metadata": {},
     "output_type": "execute_result"
    }
   ],
   "source": [
    "isobars.result[0]"
   ]
  },
  {
   "cell_type": "markdown",
   "id": "8e7cc13a",
   "metadata": {},
   "source": [
    "### This will create a file with the column name \"saturation_pressure\""
   ]
  },
  {
   "cell_type": "code",
   "execution_count": null,
   "id": "7ade8dcf",
   "metadata": {},
   "outputs": [],
   "source": [
    "satP = v.calculate_saturation_pressure(sample=mysample, temperature=1200)\n",
    "v.save_to_file(\"satP.csv\", satP)"
   ]
  },
  {
   "cell_type": "markdown",
   "id": "d9da2cb6",
   "metadata": {},
   "source": [
    "### This will create a file with the column name \"value\"\n",
    "That's because when '.result' is appended to a VESIcal Calculate object, a"
   ]
  },
  {
   "cell_type": "markdown",
   "id": "88aca9f8",
   "metadata": {},
   "source": [
    "## BatchFile\n",
    "This example creates a BatchFile by importing an Excel file, calculates the saturation pressure of all samples, and then exports the result to a CSV file and to an Excel file."
   ]
  },
  {
   "cell_type": "code",
   "execution_count": null,
   "id": "8afe6326",
   "metadata": {},
   "outputs": [
    {
     "name": "stdout",
     "output_type": "stream",
     "text": [
      "[=                   ] 6%  Working on sample Kil3-6_1a                            "
     ]
    },
    {
     "name": "stderr",
     "output_type": "stream",
     "text": [
      "/Users/kiacovino/PythonGit/VESIcal/VESIcal/batchfile.py:230: FutureWarning: ChainedAssignmentError: behaviour will change in pandas 3.0!\n",
      "You are setting values through chained assignment. Currently this works in certain cases, but when using Copy-on-Write (which will become the default behaviour in pandas 3.0) this will never work to update the original DataFrame or Series, because the intermediate object on which we are setting values will behave as a copy.\n",
      "A typical example is when you are setting values in a column of a DataFrame, like:\n",
      "\n",
      "df[\"col\"][row_indexer] = value\n",
      "\n",
      "Use `df.loc[row_indexer, \"col\"] = values` instead, to perform the assignment in a single step and ensure this keeps updating the original `df`.\n",
      "\n",
      "See the caveats in the documentation: https://pandas.pydata.org/pandas-docs/stable/user_guide/indexing.html#returning-a-view-versus-a-copy\n",
      "\n",
      "  data[column][data[column] < 0] = 0\n",
      "/Users/kiacovino/PythonGit/VESIcal/VESIcal/batchfile.py:230: FutureWarning: ChainedAssignmentError: behaviour will change in pandas 3.0!\n",
      "You are setting values through chained assignment. Currently this works in certain cases, but when using Copy-on-Write (which will become the default behaviour in pandas 3.0) this will never work to update the original DataFrame or Series, because the intermediate object on which we are setting values will behave as a copy.\n",
      "A typical example is when you are setting values in a column of a DataFrame, like:\n",
      "\n",
      "df[\"col\"][row_indexer] = value\n",
      "\n",
      "Use `df.loc[row_indexer, \"col\"] = values` instead, to perform the assignment in a single step and ensure this keeps updating the original `df`.\n",
      "\n",
      "See the caveats in the documentation: https://pandas.pydata.org/pandas-docs/stable/user_guide/indexing.html#returning-a-view-versus-a-copy\n",
      "\n",
      "  data[column][data[column] < 0] = 0\n",
      "/Users/kiacovino/PythonGit/VESIcal/VESIcal/batchfile.py:230: FutureWarning: ChainedAssignmentError: behaviour will change in pandas 3.0!\n",
      "You are setting values through chained assignment. Currently this works in certain cases, but when using Copy-on-Write (which will become the default behaviour in pandas 3.0) this will never work to update the original DataFrame or Series, because the intermediate object on which we are setting values will behave as a copy.\n",
      "A typical example is when you are setting values in a column of a DataFrame, like:\n",
      "\n",
      "df[\"col\"][row_indexer] = value\n",
      "\n",
      "Use `df.loc[row_indexer, \"col\"] = values` instead, to perform the assignment in a single step and ensure this keeps updating the original `df`.\n",
      "\n",
      "See the caveats in the documentation: https://pandas.pydata.org/pandas-docs/stable/user_guide/indexing.html#returning-a-view-versus-a-copy\n",
      "\n",
      "  data[column][data[column] < 0] = 0\n",
      "/Users/kiacovino/PythonGit/VESIcal/VESIcal/batchfile.py:230: FutureWarning: ChainedAssignmentError: behaviour will change in pandas 3.0!\n",
      "You are setting values through chained assignment. Currently this works in certain cases, but when using Copy-on-Write (which will become the default behaviour in pandas 3.0) this will never work to update the original DataFrame or Series, because the intermediate object on which we are setting values will behave as a copy.\n",
      "A typical example is when you are setting values in a column of a DataFrame, like:\n",
      "\n",
      "df[\"col\"][row_indexer] = value\n",
      "\n",
      "Use `df.loc[row_indexer, \"col\"] = values` instead, to perform the assignment in a single step and ensure this keeps updating the original `df`.\n",
      "\n",
      "See the caveats in the documentation: https://pandas.pydata.org/pandas-docs/stable/user_guide/indexing.html#returning-a-view-versus-a-copy\n",
      "\n",
      "  data[column][data[column] < 0] = 0\n",
      "/Users/kiacovino/PythonGit/VESIcal/VESIcal/batchfile.py:230: FutureWarning: ChainedAssignmentError: behaviour will change in pandas 3.0!\n",
      "You are setting values through chained assignment. Currently this works in certain cases, but when using Copy-on-Write (which will become the default behaviour in pandas 3.0) this will never work to update the original DataFrame or Series, because the intermediate object on which we are setting values will behave as a copy.\n",
      "A typical example is when you are setting values in a column of a DataFrame, like:\n",
      "\n",
      "df[\"col\"][row_indexer] = value\n",
      "\n",
      "Use `df.loc[row_indexer, \"col\"] = values` instead, to perform the assignment in a single step and ensure this keeps updating the original `df`.\n",
      "\n",
      "See the caveats in the documentation: https://pandas.pydata.org/pandas-docs/stable/user_guide/indexing.html#returning-a-view-versus-a-copy\n",
      "\n",
      "  data[column][data[column] < 0] = 0\n",
      "/Users/kiacovino/PythonGit/VESIcal/VESIcal/batchfile.py:230: FutureWarning: ChainedAssignmentError: behaviour will change in pandas 3.0!\n",
      "You are setting values through chained assignment. Currently this works in certain cases, but when using Copy-on-Write (which will become the default behaviour in pandas 3.0) this will never work to update the original DataFrame or Series, because the intermediate object on which we are setting values will behave as a copy.\n",
      "A typical example is when you are setting values in a column of a DataFrame, like:\n",
      "\n",
      "df[\"col\"][row_indexer] = value\n",
      "\n",
      "Use `df.loc[row_indexer, \"col\"] = values` instead, to perform the assignment in a single step and ensure this keeps updating the original `df`.\n",
      "\n",
      "See the caveats in the documentation: https://pandas.pydata.org/pandas-docs/stable/user_guide/indexing.html#returning-a-view-versus-a-copy\n",
      "\n",
      "  data[column][data[column] < 0] = 0\n",
      "/Users/kiacovino/PythonGit/VESIcal/VESIcal/batchfile.py:230: FutureWarning: ChainedAssignmentError: behaviour will change in pandas 3.0!\n",
      "You are setting values through chained assignment. Currently this works in certain cases, but when using Copy-on-Write (which will become the default behaviour in pandas 3.0) this will never work to update the original DataFrame or Series, because the intermediate object on which we are setting values will behave as a copy.\n",
      "A typical example is when you are setting values in a column of a DataFrame, like:\n",
      "\n",
      "df[\"col\"][row_indexer] = value\n",
      "\n",
      "Use `df.loc[row_indexer, \"col\"] = values` instead, to perform the assignment in a single step and ensure this keeps updating the original `df`.\n",
      "\n",
      "See the caveats in the documentation: https://pandas.pydata.org/pandas-docs/stable/user_guide/indexing.html#returning-a-view-versus-a-copy\n",
      "\n",
      "  data[column][data[column] < 0] = 0\n",
      "/Users/kiacovino/PythonGit/VESIcal/VESIcal/batchfile.py:230: FutureWarning: ChainedAssignmentError: behaviour will change in pandas 3.0!\n",
      "You are setting values through chained assignment. Currently this works in certain cases, but when using Copy-on-Write (which will become the default behaviour in pandas 3.0) this will never work to update the original DataFrame or Series, because the intermediate object on which we are setting values will behave as a copy.\n",
      "A typical example is when you are setting values in a column of a DataFrame, like:\n",
      "\n",
      "df[\"col\"][row_indexer] = value\n",
      "\n",
      "Use `df.loc[row_indexer, \"col\"] = values` instead, to perform the assignment in a single step and ensure this keeps updating the original `df`.\n",
      "\n",
      "See the caveats in the documentation: https://pandas.pydata.org/pandas-docs/stable/user_guide/indexing.html#returning-a-view-versus-a-copy\n",
      "\n",
      "  data[column][data[column] < 0] = 0\n",
      "/Users/kiacovino/PythonGit/VESIcal/VESIcal/batchfile.py:230: FutureWarning: ChainedAssignmentError: behaviour will change in pandas 3.0!\n",
      "You are setting values through chained assignment. Currently this works in certain cases, but when using Copy-on-Write (which will become the default behaviour in pandas 3.0) this will never work to update the original DataFrame or Series, because the intermediate object on which we are setting values will behave as a copy.\n",
      "A typical example is when you are setting values in a column of a DataFrame, like:\n",
      "\n",
      "df[\"col\"][row_indexer] = value\n",
      "\n",
      "Use `df.loc[row_indexer, \"col\"] = values` instead, to perform the assignment in a single step and ensure this keeps updating the original `df`.\n",
      "\n",
      "See the caveats in the documentation: https://pandas.pydata.org/pandas-docs/stable/user_guide/indexing.html#returning-a-view-versus-a-copy\n",
      "\n",
      "  data[column][data[column] < 0] = 0\n",
      "/Users/kiacovino/PythonGit/VESIcal/VESIcal/batchfile.py:230: FutureWarning: ChainedAssignmentError: behaviour will change in pandas 3.0!\n",
      "You are setting values through chained assignment. Currently this works in certain cases, but when using Copy-on-Write (which will become the default behaviour in pandas 3.0) this will never work to update the original DataFrame or Series, because the intermediate object on which we are setting values will behave as a copy.\n",
      "A typical example is when you are setting values in a column of a DataFrame, like:\n",
      "\n",
      "df[\"col\"][row_indexer] = value\n",
      "\n",
      "Use `df.loc[row_indexer, \"col\"] = values` instead, to perform the assignment in a single step and ensure this keeps updating the original `df`.\n",
      "\n",
      "See the caveats in the documentation: https://pandas.pydata.org/pandas-docs/stable/user_guide/indexing.html#returning-a-view-versus-a-copy\n",
      "\n",
      "  data[column][data[column] < 0] = 0\n",
      "/Users/kiacovino/PythonGit/VESIcal/VESIcal/batchfile.py:230: FutureWarning: ChainedAssignmentError: behaviour will change in pandas 3.0!\n",
      "You are setting values through chained assignment. Currently this works in certain cases, but when using Copy-on-Write (which will become the default behaviour in pandas 3.0) this will never work to update the original DataFrame or Series, because the intermediate object on which we are setting values will behave as a copy.\n",
      "A typical example is when you are setting values in a column of a DataFrame, like:\n",
      "\n",
      "df[\"col\"][row_indexer] = value\n",
      "\n",
      "Use `df.loc[row_indexer, \"col\"] = values` instead, to perform the assignment in a single step and ensure this keeps updating the original `df`.\n",
      "\n",
      "See the caveats in the documentation: https://pandas.pydata.org/pandas-docs/stable/user_guide/indexing.html#returning-a-view-versus-a-copy\n",
      "\n",
      "  data[column][data[column] < 0] = 0\n",
      "/Users/kiacovino/PythonGit/VESIcal/VESIcal/batchfile.py:230: FutureWarning: ChainedAssignmentError: behaviour will change in pandas 3.0!\n",
      "You are setting values through chained assignment. Currently this works in certain cases, but when using Copy-on-Write (which will become the default behaviour in pandas 3.0) this will never work to update the original DataFrame or Series, because the intermediate object on which we are setting values will behave as a copy.\n",
      "A typical example is when you are setting values in a column of a DataFrame, like:\n",
      "\n",
      "df[\"col\"][row_indexer] = value\n",
      "\n",
      "Use `df.loc[row_indexer, \"col\"] = values` instead, to perform the assignment in a single step and ensure this keeps updating the original `df`.\n",
      "\n",
      "See the caveats in the documentation: https://pandas.pydata.org/pandas-docs/stable/user_guide/indexing.html#returning-a-view-versus-a-copy\n",
      "\n",
      "  data[column][data[column] < 0] = 0\n",
      "/Users/kiacovino/PythonGit/VESIcal/VESIcal/batchfile.py:230: FutureWarning: ChainedAssignmentError: behaviour will change in pandas 3.0!\n",
      "You are setting values through chained assignment. Currently this works in certain cases, but when using Copy-on-Write (which will become the default behaviour in pandas 3.0) this will never work to update the original DataFrame or Series, because the intermediate object on which we are setting values will behave as a copy.\n",
      "A typical example is when you are setting values in a column of a DataFrame, like:\n",
      "\n",
      "df[\"col\"][row_indexer] = value\n",
      "\n",
      "Use `df.loc[row_indexer, \"col\"] = values` instead, to perform the assignment in a single step and ensure this keeps updating the original `df`.\n",
      "\n",
      "See the caveats in the documentation: https://pandas.pydata.org/pandas-docs/stable/user_guide/indexing.html#returning-a-view-versus-a-copy\n",
      "\n",
      "  data[column][data[column] < 0] = 0\n",
      "/Users/kiacovino/PythonGit/VESIcal/VESIcal/batchfile.py:230: FutureWarning: ChainedAssignmentError: behaviour will change in pandas 3.0!\n",
      "You are setting values through chained assignment. Currently this works in certain cases, but when using Copy-on-Write (which will become the default behaviour in pandas 3.0) this will never work to update the original DataFrame or Series, because the intermediate object on which we are setting values will behave as a copy.\n",
      "A typical example is when you are setting values in a column of a DataFrame, like:\n",
      "\n",
      "df[\"col\"][row_indexer] = value\n",
      "\n",
      "Use `df.loc[row_indexer, \"col\"] = values` instead, to perform the assignment in a single step and ensure this keeps updating the original `df`.\n",
      "\n",
      "See the caveats in the documentation: https://pandas.pydata.org/pandas-docs/stable/user_guide/indexing.html#returning-a-view-versus-a-copy\n",
      "\n",
      "  data[column][data[column] < 0] = 0\n",
      "/Users/kiacovino/PythonGit/VESIcal/VESIcal/batchfile.py:230: FutureWarning: ChainedAssignmentError: behaviour will change in pandas 3.0!\n",
      "You are setting values through chained assignment. Currently this works in certain cases, but when using Copy-on-Write (which will become the default behaviour in pandas 3.0) this will never work to update the original DataFrame or Series, because the intermediate object on which we are setting values will behave as a copy.\n",
      "A typical example is when you are setting values in a column of a DataFrame, like:\n",
      "\n",
      "df[\"col\"][row_indexer] = value\n",
      "\n",
      "Use `df.loc[row_indexer, \"col\"] = values` instead, to perform the assignment in a single step and ensure this keeps updating the original `df`.\n",
      "\n",
      "See the caveats in the documentation: https://pandas.pydata.org/pandas-docs/stable/user_guide/indexing.html#returning-a-view-versus-a-copy\n",
      "\n",
      "  data[column][data[column] < 0] = 0\n",
      "/Users/kiacovino/PythonGit/VESIcal/VESIcal/batchfile.py:230: FutureWarning: ChainedAssignmentError: behaviour will change in pandas 3.0!\n",
      "You are setting values through chained assignment. Currently this works in certain cases, but when using Copy-on-Write (which will become the default behaviour in pandas 3.0) this will never work to update the original DataFrame or Series, because the intermediate object on which we are setting values will behave as a copy.\n",
      "A typical example is when you are setting values in a column of a DataFrame, like:\n",
      "\n",
      "df[\"col\"][row_indexer] = value\n",
      "\n",
      "Use `df.loc[row_indexer, \"col\"] = values` instead, to perform the assignment in a single step and ensure this keeps updating the original `df`.\n",
      "\n",
      "See the caveats in the documentation: https://pandas.pydata.org/pandas-docs/stable/user_guide/indexing.html#returning-a-view-versus-a-copy\n",
      "\n",
      "  data[column][data[column] < 0] = 0\n"
     ]
    },
    {
     "name": "stdout",
     "output_type": "stream",
     "text": [
      "[==                  ] 12%  Working on sample Kil3-6_3a                            duanDriver-2: t = 1556.57, p = 19000, z = 3.4917, v = 2.37841, delv = 0, dx = -1.07168e-13, iter = 41\n",
      "duanDriver-2: t = 1556.57, p = 7000, z = 2.28528, v = 4.22517, delv = 0, dx = -1.14502e-13, iter = 39\n",
      "[=======             ] 35%  Working on sample 25                                   duanDriver-2: t = 1473.15, p = 10000, z = 2.06571, v = 2.53018, delv = 0, dx = -1.77559e-13, iter = 40\n",
      "[================    ] 82%  Working on sample samp. HPR3-1_XL-4_INCL-1                            "
     ]
    },
    {
     "name": "stderr",
     "output_type": "stream",
     "text": [
      "/var/folders/_g/9blqt5_91sz3mq5rd0y93qp40000gq/T/ipykernel_44560/1869636699.py:4: UserWarning: Temperature for sample samp. HPR3-1_XL-3 is <=0. Skipping sample.\n",
      "  satPs_batch = myfile.calculate_saturation_pressure(temperature=\"Temp\")\n"
     ]
    },
    {
     "name": "stdout",
     "output_type": "stream",
     "text": [
      "[==================  ] 94%  Working on sample AW-46                            duanDriver-2: t = 1273.15, p = 8000, z = 2.43683, v = 3.22441, delv = 0, dx = -2.35713e-13, iter = 40\n",
      "duanDriver-2: t = 1273.15, p = 4900, z = 2.05402, v = 4.43735, delv = 0, dx = -3.50061e-14, iter = 38\n",
      "duanDriver-2: t = 1273.15, p = 4900, z = 2.05402, v = 4.43735, delv = 0, dx = -4.48079e-12, iter = 31\n",
      "duanDriver-2: t = 1273.15, p = 4900, z = 2.05402, v = 4.43735, delv = 0, dx = -4.48079e-12, iter = 31\n",
      "duanDriver-2: t = 1273.15, p = 4900, z = 2.05402, v = 4.43735, delv = 0, dx = -4.48079e-12, iter = 31\n",
      "duanDriver-2: t = 1273.15, p = 4960, z = 2.06309, v = 4.40302, delv = 0, dx = -3.85159e-14, iter = 38\n",
      "[====================] 100%  Working on sample KI-07                            \n",
      "Saved satPs_batch.xlsx\n",
      "Saved satPs_batch.csv\n"
     ]
    },
    {
     "name": "stderr",
     "output_type": "stream",
     "text": [
      "/Users/kiacovino/PythonGit/VESIcal/VESIcal/batchfile.py:635: FutureWarning: Starting with pandas version 3.0 all arguments of to_excel except for the argument 'excel_writer' will be keyword-only.\n",
      "  self.data.to_excel(writer, 'Original_User_Data')\n",
      "/Users/kiacovino/PythonGit/VESIcal/VESIcal/batchfile.py:639: FutureWarning: Starting with pandas version 3.0 all arguments of to_excel except for the argument 'excel_writer' will be keyword-only.\n",
      "  df.to_excel(writer, 'Calc%s' % n)\n"
     ]
    }
   ],
   "source": [
    "myfile = v.BatchFile('example_data.xlsx')\n",
    "\n",
    "# calculate sat P using temperatures from the imported excel file\n",
    "satPs_batch = myfile.calculate_saturation_pressure(temperature=\"Temp\")\n",
    "\n",
    "myfile.save_excel(filename=\"satPs_batch.xlsx\", calculations=[satPs_batch])\n",
    "myfile.save_csv(filename=\"satPs_batch.csv\", calculations=[satPs_batch])"
   ]
  },
  {
   "cell_type": "code",
   "execution_count": null,
   "id": "e515bd7f",
   "metadata": {},
   "outputs": [],
   "source": []
  }
 ],
 "metadata": {
  "kernelspec": {
   "display_name": "VESIcal",
   "language": "python",
   "name": "python3"
  },
  "language_info": {
   "codemirror_mode": {
    "name": "ipython",
    "version": 3
   },
   "file_extension": ".py",
   "mimetype": "text/x-python",
   "name": "python",
   "nbconvert_exporter": "python",
   "pygments_lexer": "ipython3",
   "version": "3.13.5"
  }
 },
 "nbformat": 4,
 "nbformat_minor": 5
}
