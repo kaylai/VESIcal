{
 "cells": [
  {
   "cell_type": "markdown",
   "metadata": {},
   "source": [
    "# Normalizing and Transforming Data"
   ]
  },
  {
   "cell_type": "markdown",
   "metadata": {},
   "source": [
    "Before performing model calculations on your data, it may be desired to normalize the input composition to a total of 100 wt%. VESIcal has multiple methods for normalizing sample data using various routines. Normalization can be done automatically when retrieving a single sample from an Excel file, as detailed above. Each of the normalization routines can be accessed by the user at any time to normalize either a signle sample or all samples in an ExcelFile object. \n",
    "\n",
    "All three normalization functions can take in either a single composition as a dictionary or multiple compositions either as an ExcelFile object or a pandas DataFrame object (e.g., `yourexcelfile` or `yourexcelfile.data`). The standard normalize functino returns the composition normalized to 100%, including any volatiles. The FixedVolatiles function normalizes the oxides to 100%, but volatiles remain fixed while other major element oxides are reduced proporitonally so that the total is 100 wt%. The AdditionalVolatiles function normalizes oxides to 100% assuming the sample is volatile-free. If H$_2$O or CO$_2$ concentrations are passed to the function, their un-normalized values will be retained in addition to the normalized non-volatile oxides, summing to >100%."
   ]
  },
  {
   "cell_type": "code",
   "execution_count": 1,
   "metadata": {
    "execution": {
     "iopub.execute_input": "2024-03-28T22:19:24.785271Z",
     "iopub.status.busy": "2024-03-28T22:19:24.784582Z",
     "iopub.status.idle": "2024-03-28T22:19:28.558015Z",
     "shell.execute_reply": "2024-03-28T22:19:28.558422Z"
    }
   },
   "outputs": [
    {
     "name": "stderr",
     "output_type": "stream",
     "text": [
      "/opt/anaconda3/lib/python3.9/site-packages/numdifftools/extrapolation.py:10: DeprecationWarning: Please use `convolve1d` from the `scipy.ndimage` namespace, the `scipy.ndimage.filters` namespace is deprecated.\n",
      "  from scipy.ndimage.filters import convolve1d\n",
      "/opt/anaconda3/lib/python3.9/site-packages/numdifftools/multicomplex.py:35: DeprecationWarning: `finfo.machar` is deprecated (NumPy 1.22)\n",
      "  _TINY = np.finfo(float).machar.tiny\n"
     ]
    }
   ],
   "source": [
    "import sys\n",
    "sys.path.insert(0, '../')\n",
    "\n",
    "import VESIcal as v"
   ]
  },
  {
   "cell_type": "markdown",
   "metadata": {},
   "source": [
    "## Normalizing an entire dataset\n",
    "### Import an Excel file"
   ]
  },
  {
   "cell_type": "code",
   "execution_count": 2,
   "metadata": {
    "execution": {
     "iopub.execute_input": "2024-03-28T22:19:28.562344Z",
     "iopub.status.busy": "2024-03-28T22:19:28.561705Z",
     "iopub.status.idle": "2024-03-28T22:19:28.617088Z",
     "shell.execute_reply": "2024-03-28T22:19:28.617550Z"
    }
   },
   "outputs": [],
   "source": [
    "myfile = v.BatchFile('../../manuscript/example_data.xlsx')"
   ]
  },
  {
   "cell_type": "markdown",
   "metadata": {},
   "source": [
    "### Standard Normalization\n",
    "Returns the composition normalized to 100%, including any volatiles."
   ]
  },
  {
   "cell_type": "code",
   "execution_count": 3,
   "metadata": {
    "execution": {
     "iopub.execute_input": "2024-03-28T22:19:28.622817Z",
     "iopub.status.busy": "2024-03-28T22:19:28.622097Z",
     "iopub.status.idle": "2024-03-28T22:19:28.648478Z",
     "shell.execute_reply": "2024-03-28T22:19:28.648946Z"
    }
   },
   "outputs": [
    {
     "name": "stdout",
     "output_type": "stream",
     "text": [
      "Saved ../tables/NormStandard.csv\n"
     ]
    }
   ],
   "source": [
    "standard = myfile.get_data(normalization='standard')\n",
    "standard\n",
    "\n",
    "myfile.save_csv(\"../tables/NormStandard.csv\", standard)"
   ]
  },
  {
   "cell_type": "markdown",
   "metadata": {},
   "source": [
    "### FixedVolatiles Normalization\n",
    "Normalizes the oxides to 100%, but volatiles remain fixed while other major element oxides are reduced proporitonally so that the total is 100 wt%."
   ]
  },
  {
   "cell_type": "code",
   "execution_count": 4,
   "metadata": {
    "execution": {
     "iopub.execute_input": "2024-03-28T22:19:28.762675Z",
     "iopub.status.busy": "2024-03-28T22:19:28.761790Z",
     "iopub.status.idle": "2024-03-28T22:19:28.888156Z",
     "shell.execute_reply": "2024-03-28T22:19:28.888826Z"
    },
    "scrolled": true
   },
   "outputs": [
    {
     "name": "stdout",
     "output_type": "stream",
     "text": [
      "Saved ../tables/NormFixedVolatiles.csv\n"
     ]
    }
   ],
   "source": [
    "fixed_vols = myfile.get_data(normalization='fixedvolatiles')\n",
    "fixed_vols\n",
    "\n",
    "myfile.save_csv(\"../tables/NormFixedVolatiles.csv\", fixed_vols)"
   ]
  },
  {
   "cell_type": "markdown",
   "metadata": {},
   "source": [
    "### AdditionalVolatiles Normalization"
   ]
  },
  {
   "cell_type": "markdown",
   "metadata": {},
   "source": [
    "Normalizes oxides to 100% assuming the sample is volatile-free. If H$_2$O or CO$_2$ concentrations are passed to the function, their un-normalized values will be retained in addition to the normalized non-volatile oxides, summing to >100%."
   ]
  },
  {
   "cell_type": "code",
   "execution_count": 5,
   "metadata": {
    "execution": {
     "iopub.execute_input": "2024-03-28T22:19:29.023899Z",
     "iopub.status.busy": "2024-03-28T22:19:28.917216Z",
     "iopub.status.idle": "2024-03-28T22:19:29.028410Z",
     "shell.execute_reply": "2024-03-28T22:19:29.028888Z"
    }
   },
   "outputs": [
    {
     "name": "stdout",
     "output_type": "stream",
     "text": [
      "Saved ../tables/NormAdditionalVolatiles.csv\n"
     ]
    }
   ],
   "source": [
    "additional = myfile.get_data(normalization='additionalvolatiles')\n",
    "additional\n",
    "\n",
    "myfile.save_csv(\"../tables/NormAdditionalVolatiles.csv\", additional)"
   ]
  },
  {
   "cell_type": "markdown",
   "metadata": {},
   "source": [
    "## Normalize a single sample composition"
   ]
  },
  {
   "cell_type": "markdown",
   "metadata": {},
   "source": [
    "### Extract a single sample from your dataset"
   ]
  },
  {
   "cell_type": "code",
   "execution_count": 6,
   "metadata": {
    "execution": {
     "iopub.execute_input": "2024-03-28T22:19:29.035118Z",
     "iopub.status.busy": "2024-03-28T22:19:29.034112Z",
     "iopub.status.idle": "2024-03-28T22:19:29.037489Z",
     "shell.execute_reply": "2024-03-28T22:19:29.038537Z"
    }
   },
   "outputs": [],
   "source": [
    "SampleName = 'BT-ex'\n",
    "extracted_bulk_comp = myfile.get_sample_composition(SampleName, asSampleClass=True)"
   ]
  },
  {
   "cell_type": "markdown",
   "metadata": {},
   "source": [
    "The normalization type can be passed to get_sample_composition directly:\n",
    "\n",
    "```python\n",
    "extracted_bulk_comp = myfile.get_sample_composition(SampleName, normalization=<normalization-type>, asSampleClass=True)\n",
    "```\n",
    "\n",
    "Or, normalization can be done to any Sample object, as shown below."
   ]
  },
  {
   "cell_type": "markdown",
   "metadata": {},
   "source": [
    "### Standard Normalization"
   ]
  },
  {
   "cell_type": "code",
   "execution_count": 7,
   "metadata": {
    "execution": {
     "iopub.execute_input": "2024-03-28T22:19:29.051896Z",
     "iopub.status.busy": "2024-03-28T22:19:29.050674Z",
     "iopub.status.idle": "2024-03-28T22:19:29.055398Z",
     "shell.execute_reply": "2024-03-28T22:19:29.056508Z"
    }
   },
   "outputs": [
    {
     "data": {
      "text/plain": [
       "SiO2     73.369308\n",
       "TiO2      0.075736\n",
       "Al2O3    11.833759\n",
       "Fe2O3     0.195967\n",
       "Cr2O3     0.000000\n",
       "FeO       0.447789\n",
       "MnO       0.000000\n",
       "MgO       0.028401\n",
       "NiO       0.000000\n",
       "CoO       0.000000\n",
       "CaO       0.407081\n",
       "Na2O      3.767869\n",
       "K2O       4.619900\n",
       "P2O5      0.000000\n",
       "H2O       5.206854\n",
       "CO2       0.047335\n",
       "dtype: float64"
      ]
     },
     "execution_count": 7,
     "metadata": {},
     "output_type": "execute_result"
    }
   ],
   "source": [
    "single_standard = extracted_bulk_comp.get_composition(normalization=\"standard\")\n",
    "single_standard"
   ]
  },
  {
   "cell_type": "markdown",
   "metadata": {},
   "source": [
    "### FixedVolatiles Normalization"
   ]
  },
  {
   "cell_type": "code",
   "execution_count": 8,
   "metadata": {
    "execution": {
     "iopub.execute_input": "2024-03-28T22:19:29.075065Z",
     "iopub.status.busy": "2024-03-28T22:19:29.063434Z",
     "iopub.status.idle": "2024-03-28T22:19:29.078683Z",
     "shell.execute_reply": "2024-03-28T22:19:29.079405Z"
    }
   },
   "outputs": [
    {
     "data": {
      "text/plain": [
       "SiO2     73.140238\n",
       "TiO2      0.075500\n",
       "Al2O3    11.796813\n",
       "Fe2O3     0.195355\n",
       "Cr2O3     0.000000\n",
       "FeO       0.446391\n",
       "MnO       0.000000\n",
       "MgO       0.028312\n",
       "NiO       0.000000\n",
       "CoO       0.000000\n",
       "CaO       0.405810\n",
       "Na2O      3.756105\n",
       "K2O       4.605476\n",
       "P2O5      0.000000\n",
       "CO2       0.050000\n",
       "H2O       5.500000\n",
       "dtype: float64"
      ]
     },
     "execution_count": 8,
     "metadata": {},
     "output_type": "execute_result"
    }
   ],
   "source": [
    "single_fixed = extracted_bulk_comp.get_composition(normalization=\"fixedvolatiles\")\n",
    "single_fixed"
   ]
  },
  {
   "cell_type": "markdown",
   "metadata": {},
   "source": [
    "### AdditionalVolatiles Normalization"
   ]
  },
  {
   "cell_type": "code",
   "execution_count": 9,
   "metadata": {
    "execution": {
     "iopub.execute_input": "2024-03-28T22:19:29.094950Z",
     "iopub.status.busy": "2024-03-28T22:19:29.093942Z",
     "iopub.status.idle": "2024-03-28T22:19:29.096786Z",
     "shell.execute_reply": "2024-03-28T22:19:29.097254Z"
    }
   },
   "outputs": [
    {
     "data": {
      "text/plain": [
       "SiO2     77.438050\n",
       "TiO2      0.079936\n",
       "Al2O3    12.490008\n",
       "Fe2O3     0.206835\n",
       "Cr2O3     0.000000\n",
       "FeO       0.472622\n",
       "MnO       0.000000\n",
       "MgO       0.029976\n",
       "NiO       0.000000\n",
       "CoO       0.000000\n",
       "CaO       0.429656\n",
       "Na2O      3.976819\n",
       "K2O       4.876099\n",
       "P2O5      0.000000\n",
       "H2O       5.500000\n",
       "CO2       0.050000\n",
       "dtype: float64"
      ]
     },
     "execution_count": 9,
     "metadata": {},
     "output_type": "execute_result"
    }
   ],
   "source": [
    "single_additional = extracted_bulk_comp.get_composition(normalization=\"additionalvolatiles\")\n",
    "single_additional"
   ]
  },
  {
   "cell_type": "code",
   "execution_count": 10,
   "metadata": {
    "execution": {
     "iopub.execute_input": "2024-03-28T22:19:29.101562Z",
     "iopub.status.busy": "2024-03-28T22:19:29.100855Z",
     "iopub.status.idle": "2024-03-28T22:19:29.181622Z",
     "shell.execute_reply": "2024-03-28T22:19:29.182076Z"
    }
   },
   "outputs": [
    {
     "name": "stdout",
     "output_type": "stream",
     "text": [
      "Saved ex_normalize_tables.xlsx\n"
     ]
    }
   ],
   "source": [
    "myfile.save_excel(filename='ex_normalize_tables.xlsx', calculations=[standard, fixed_vols, additional])"
   ]
  }
 ],
 "metadata": {
  "kernelspec": {
   "display_name": "Python 3",
   "language": "python",
   "name": "python3"
  },
  "language_info": {
   "codemirror_mode": {
    "name": "ipython",
    "version": 3
   },
   "file_extension": ".py",
   "mimetype": "text/x-python",
   "name": "python",
   "nbconvert_exporter": "python",
   "pygments_lexer": "ipython3",
   "version": "3.9.7"
  },
  "toc": {
   "base_numbering": 1,
   "nav_menu": {},
   "number_sections": true,
   "sideBar": true,
   "skip_h1_title": false,
   "title_cell": "Table of Contents",
   "title_sidebar": "Contents",
   "toc_cell": false,
   "toc_position": {},
   "toc_section_display": true,
   "toc_window_display": false
  }
 },
 "nbformat": 4,
 "nbformat_minor": 4
}
