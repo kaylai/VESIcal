{
 "cells": [
  {
   "cell_type": "code",
   "execution_count": 41,
   "metadata": {},
   "outputs": [],
   "source": [
    "import VESIcal as v\n",
    "import pandas as pd"
   ]
  },
  {
   "cell_type": "markdown",
   "metadata": {},
   "source": [
    "# Creating and modifying model objects\n",
    "\n",
    "Any model within VESIcal can be duplicated and then modified. New calculation methods that rely on the pre-existing structure within VESIcal, can be easily added. An example is shown here for a new method, \"calculate_dissolved_CO2\". This method is used to calculate the dissolved CO2 concentration, in wt%, of a mixed fluid (H2O-CO2) saturated magma  with a known dissolved H2O concentration, pressure, temperature, and bulk composition. This magma would thus be undersaturated in pure H2O but saturated in mixed H2O-CO2 fluid.\n",
    "\n",
    "First, we duplicate the MagmaSat model object."
   ]
  },
  {
   "cell_type": "code",
   "execution_count": 29,
   "metadata": {},
   "outputs": [],
   "source": [
    "# duplicate the MagmaSat model into a new object called mymodel\n",
    "mymodel = v.models.magmasat.MagmaSat()"
   ]
  },
  {
   "cell_type": "markdown",
   "metadata": {},
   "source": [
    "We now have a new model object, called mymodel, that behaves exactly as the MagmaSat model would. You can test this by performing any VESIcal calculation and setting the argument 'model' to be 'mymodel'. Let's first create a sample to test this with:"
   ]
  },
  {
   "cell_type": "code",
   "execution_count": 30,
   "metadata": {},
   "outputs": [],
   "source": [
    "# create a sample to test new method\n",
    "testsample = v.Sample({'SiO2':    47.95,\n",
    "                       'TiO2':    1.67,\n",
    "                       'Al2O3':   17.32,\n",
    "                       'FeO':     10.24,\n",
    "                       'Fe2O3':   0.1,\n",
    "                       'MgO':     5.76,\n",
    "                       'CaO':     10.93,\n",
    "                       'Na2O':    3.45,\n",
    "                       'K2O':     1.99,\n",
    "                       'P2O5':    0.51,\n",
    "                       'MnO':     0.1,\n",
    "                       'H2O':     2.0\n",
    "                    })"
   ]
  },
  {
   "cell_type": "markdown",
   "metadata": {},
   "source": [
    "Now, let's try calculating the saturation pressure of testsample at 1000 degrees C using the mymodel object we've just created."
   ]
  },
  {
   "cell_type": "code",
   "execution_count": 31,
   "metadata": {},
   "outputs": [
    {
     "name": "stdout",
     "output_type": "stream",
     "text": [
      "The saturation pressure is 430 bars.\n"
     ]
    }
   ],
   "source": [
    "satP = v.calculate_saturation_pressure(sample=testsample, temperature=1000, model=mymodel).result\n",
    "print(\"The saturation pressure is \" + str(satP) + \" bars.\")"
   ]
  },
  {
   "cell_type": "markdown",
   "metadata": {},
   "source": [
    "## Creating new calculations using an existing model\n",
    "\n",
    "Now, let's create a new calculation (called a method) within the framework of mymodel, which is a duplicate of MagmaSat. In the case of MagmaSat, the MELTS model also needs to be defined separately (with other models, this step is unnecessary)."
   ]
  },
  {
   "cell_type": "code",
   "execution_count": 32,
   "metadata": {},
   "outputs": [],
   "source": [
    "# import MELTS preamble (copy-paste from magmasat.py)\n",
    "from thermoengine import equilibrate\n",
    "\n",
    "# -------------- MELTS preamble --------------- #\n",
    "# instantiate thermoengine equilibrate MELTS instance\n",
    "melts = equilibrate.MELTSmodel('1.2.0')\n",
    "\n",
    "# Suppress phases not required in the melts simulation\n",
    "phases = melts.get_phase_names()\n",
    "for phase in phases:\n",
    "    melts.set_phase_inclusion_status({phase: False})\n",
    "melts.set_phase_inclusion_status({'Fluid': True, 'Liquid': True})\n",
    "# --------------------------------------------- #"
   ]
  },
  {
   "cell_type": "markdown",
   "metadata": {},
   "source": [
    "Now that MELTS is defined, we can get to work creating a new calculation. Below, we have taken the code from MagmaSat's `calculate_dissolved_volatiles` method and adjusted it to meet our needs. We begin with a magma that we know to be pure-H2O undersaturated but mixed H2O-CO2 saturated, with known dissolved H2O concentration in wt%, pressure in bars, and temperature in degrees C. The goal is to write a method to calculate the concentration of dissolved CO2 necessary to acheive mixed H2O-CO2 saturation at the given conditions."
   ]
  },
  {
   "cell_type": "code",
   "execution_count": 33,
   "metadata": {},
   "outputs": [],
   "source": [
    "# write a new method to add to our mymodel object\n",
    "# this method will hold H2O constant and calculate dissolved CO2 at given P, T\n",
    "# this is a modification of the existing calculate_dissolved_volatiles() method\n",
    "\n",
    "def calculate_dissolved_CO2(self, sample, temperature, pressure,\n",
    "                            H2O_liq, verbose=False, **kwargs):\n",
    "        \"\"\"\n",
    "        Calculates the amount of CO2 dissolved in a magma at saturation at the given P/T\n",
    "        conditions and given dissolved H2O. \n",
    "\n",
    "        Parameters\n",
    "        ----------\n",
    "        sample:     Sample class\n",
    "            Magma major element composition.\n",
    "\n",
    "        temperature: float or int\n",
    "            Temperature, in degrees C.\n",
    "\n",
    "        presure: float or int\n",
    "            Pressure, in bars.\n",
    "\n",
    "        H2O_liq: float or int\n",
    "            Dissolved H2O concentration, in wt%\n",
    "\n",
    "        verbose: bool\n",
    "            OPTIONAL: Default is False. If set to True, returns H2O and CO2 concentration in the\n",
    "            melt, H2O and CO2 concentration in the fluid, mass of the fluid in grams, and\n",
    "            proportion of fluid in the system in wt%.\n",
    "\n",
    "        Returns\n",
    "        -------\n",
    "        dict\n",
    "            A dictionary of dissolved volatile concentrations in wt% with keys H2O and CO2.\n",
    "        \"\"\"\n",
    "        _sample = self.preprocess_sample(sample)\n",
    "\n",
    "        if isinstance(H2O_liq, int) or isinstance(H2O_liq, float):\n",
    "            pass\n",
    "        else:\n",
    "            raise core.InputError(\"H2O_liq must be type int or float\")\n",
    "\n",
    "        pressureMPa = pressure / 10.0\n",
    "\n",
    "        # coarse search\n",
    "        H2O_bulk = H2O_liq\n",
    "        CO2_bulk = 0.0\n",
    "        fluid_mass = 0.0\n",
    "        while fluid_mass <= 0:\n",
    "            CO2_bulk += 0.01\n",
    "            fluid_mass = self.get_fluid_mass(_sample, temperature, pressure, H2O_bulk, CO2_bulk)\n",
    "        \n",
    "        # calculated dissolved H2O, then increment up\n",
    "        H2O_diss = 0\n",
    "        while H2O_diss < H2O_liq:\n",
    "            _sample.change_composition({'H2O': H2O_bulk, 'CO2': CO2_bulk}, units='wtpt_oxides')\n",
    "            melts.set_bulk_composition(_sample.get_composition(units='wtpt_oxides',\n",
    "                                                               normalization='none'))\n",
    "\n",
    "            output = melts.equilibrate_tp(temperature, pressureMPa, initialize=True)\n",
    "            (status, temperature, pressureMPa, xmlout) = output[0]\n",
    "            liquid_comp = melts.get_composition_of_phase(xmlout, phase_name='Liquid', mode='oxide_wt')\n",
    "\n",
    "            if \"H2O\" in liquid_comp:\n",
    "                H2O_diss = liquid_comp[\"H2O\"]\n",
    "            else:\n",
    "                H2O_diss = 0\n",
    "            # changing this value changes how close to the original\n",
    "            # known H2O value the resulting H2O_liquid wt% will be\n",
    "            H2O_bulk += 0.001\n",
    "        \n",
    "        H2O_val = H2O_bulk\n",
    "        CO2_val = CO2_bulk\n",
    "\n",
    "        # ------ Get calculated values ------ #\n",
    "        _sample.change_composition({'H2O': H2O_val, 'CO2': CO2_val}, units='wtpt_oxides')\n",
    "        melts.set_bulk_composition(_sample.get_composition(units='wtpt_oxides',\n",
    "                                                           normalization='none'))\n",
    "\n",
    "        output = melts.equilibrate_tp(temperature, pressureMPa, initialize=True)\n",
    "        (status, temperature, pressureMPa, xmlout) = output[0]\n",
    "        fluid_mass = melts.get_mass_of_phase(xmlout, phase_name='Fluid')\n",
    "        system_mass = melts.get_mass_of_phase(xmlout, phase_name='System')\n",
    "        liquid_comp = melts.get_composition_of_phase(xmlout, phase_name='Liquid', mode='oxide_wt')\n",
    "        fluid_comp = melts.get_composition_of_phase(xmlout, phase_name='Fluid', mode='component')\n",
    "\n",
    "        if \"H2O\" in liquid_comp:\n",
    "            H2O_liq = liquid_comp[\"H2O\"]\n",
    "        else:\n",
    "            H2O_liq = 0\n",
    "\n",
    "        if \"CO2\" in liquid_comp:\n",
    "            CO2_liq = liquid_comp[\"CO2\"]\n",
    "        else:\n",
    "            CO2_liq = 0\n",
    "\n",
    "        if \"Water\" in fluid_comp:\n",
    "            H2O_fl = fluid_comp[\"Water\"]\n",
    "        else:\n",
    "            H2O_fl = 0.0\n",
    "        if \"Carbon Dioxide\" in fluid_comp:\n",
    "            CO2_fl = fluid_comp[\"Carbon Dioxide\"]\n",
    "        else:\n",
    "            CO2_fl = 0.0\n",
    "\n",
    "        XH2O_fluid = H2O_fl\n",
    "\n",
    "        if verbose:\n",
    "            return {\"temperature\": temperature, \"pressure\": pressure,\n",
    "                    \"H2O_liq\": H2O_liq, \"CO2_liq\": CO2_liq,\n",
    "                    \"XH2O_fl\": H2O_fl, \"XCO2_fl\": CO2_fl,\n",
    "                    \"FluidProportion_wt\": 100*fluid_mass/system_mass}\n",
    "\n",
    "        if verbose is False:\n",
    "            return {\"CO2_liq\": CO2_liq, \"H2O_liq\": H2O_liq}"
   ]
  },
  {
   "cell_type": "markdown",
   "metadata": {},
   "source": [
    "In order to bind our newly created method to mymodel (in other words, in order to allow mymodel to access and execute the code we have just written), we use python's universal .__get__ method."
   ]
  },
  {
   "cell_type": "code",
   "execution_count": 34,
   "metadata": {},
   "outputs": [],
   "source": [
    "# add our new method to mymodel\n",
    "mymodel.calculate_dissolved_CO2 = calculate_dissolved_CO2.__get__(mymodel)"
   ]
  },
  {
   "cell_type": "markdown",
   "metadata": {},
   "source": [
    "Now, let's test our new method."
   ]
  },
  {
   "cell_type": "code",
   "execution_count": 35,
   "metadata": {},
   "outputs": [
    {
     "data": {
      "text/plain": [
       "{'temperature': 1000.0,\n",
       " 'pressure': 5000.0,\n",
       " 'H2O_liq': 2.00137179156045,\n",
       " 'CO2_liq': 0.520077091019401,\n",
       " 'XH2O_fl': 0.146938900738546,\n",
       " 'XCO2_fl': 0.853061099261454,\n",
       " 'FluidProportion_wt': 0.006638675057019597}"
      ]
     },
     "execution_count": 35,
     "metadata": {},
     "output_type": "execute_result"
    }
   ],
   "source": [
    "mymodel.calculate_dissolved_CO2(testsample, pressure=5000.0, temperature=1000.0, H2O_liq=testsample.get_composition()['H2O'], verbose=True)"
   ]
  },
  {
   "cell_type": "markdown",
   "metadata": {},
   "source": [
    "### Some notes about our new calculation\n",
    "\n",
    "Notice that the final output dissolved H2O concentration matches our given H2O concentration of 2.0 wt% to within ~0.001 wt%. This final output value can be made to match much more closely to the given H2O concentration by adjusting one line of code. See comment \"changing this value changes how close to the original known H2O value the resulting H2O_liquid wt% will be\"."
   ]
  },
  {
   "cell_type": "markdown",
   "metadata": {},
   "source": [
    "# Working with BatchFile objects\n",
    "Surely, this function is most useful when it can be applied not only to single Sample objects but also to BatchFile objects, such that an entire dataset can be evaluated by the new method at once. In the future, VESIcal will have built-in functions for adding custom code to VESIcal's own batchmodel module. For now, we will demonstrated how to write a for loop to apply our custom `calculate_dissolved_CO2` function to each sample in a BatchFile.\n",
    "\n",
    "First, let's import a file as a BatchFile object. We are using the example_data.xlsx file published with the VESIcal manuscript. You can download the file here: https://github.com/kaylai/VESIcal/tree/master/manuscript/Supplement/Datasets"
   ]
  },
  {
   "cell_type": "code",
   "execution_count": 36,
   "metadata": {},
   "outputs": [],
   "source": [
    "# import our file and save it to object named myfile\n",
    "myfile = v.BatchFile('example_data.xlsx')"
   ]
  },
  {
   "cell_type": "markdown",
   "metadata": {},
   "source": [
    "Next, let's construct the loop. We need to work with `myfile` as a pandas dataframe, so let's grab the data out of the BatchFile object."
   ]
  },
  {
   "cell_type": "code",
   "execution_count": 37,
   "metadata": {},
   "outputs": [
    {
     "data": {
      "text/plain": [
       "pandas.core.frame.DataFrame"
      ]
     },
     "execution_count": 37,
     "metadata": {},
     "output_type": "execute_result"
    }
   ],
   "source": [
    "mydata = myfile.get_data()\n",
    "\n",
    "# I'm going to take only the first three rows of this file to speed things up\n",
    "mydata = mydata.iloc[:3]\n",
    "type(mydata)"
   ]
  },
  {
   "cell_type": "markdown",
   "metadata": {},
   "source": [
    "Now, we can iterate over the dataframe following rules set by python pandas."
   ]
  },
  {
   "cell_type": "code",
   "execution_count": 48,
   "metadata": {},
   "outputs": [],
   "source": [
    "# first create an empty list to store our results\n",
    "results = []\n",
    "\n",
    "# next, iterate over the dataframe\n",
    "for index, row in mydata.iterrows():\n",
    "    currentsample = myfile.get_sample_composition(index, asSampleClass=True)\n",
    "    currentresult = mymodel.calculate_dissolved_CO2(currentsample, \n",
    "                                                    pressure=5000.0, \n",
    "                                                    temperature=1000.0, \n",
    "                                                    H2O_liq=currentsample.get_composition()['H2O'], \n",
    "                                                    verbose=True)\n",
    "    \n",
    "    \"\"\" if you want to grab pressure or temperature values from the BatchFile object\n",
    "     for example, if each sample has a \"Pressure\" and \"Temperature\" column, use:\n",
    "     currentresult = mymodel.calculate_dissolved_CO2(currentsample, \n",
    "                                                    pressure=row[\"Pressure\"], \n",
    "                                                    temperature=row[\"Temperature\"], \n",
    "                                                    H2O_liq=testsample.get_composition()['H2O'], \n",
    "                                                    verbose=True)\n",
    "    \"\"\"\n",
    "    \n",
    "    # next, append the result to our empty list\n",
    "    results.append(currentresult)\n",
    "\n",
    "# To more easily work with this data outside of VESIcal,\n",
    "# let's save our new data to a dataframe and export that\n",
    "# to an xlsx file\n",
    "results_frame = pd.DataFrame()\n",
    "results_frame['Label'] = list(mydata.index)\n",
    "results_frame['Modeled_Temperature(C)'] = [res['temperature'] for res in results]\n",
    "results_frame['Modeled_Pressure(bars)'] = [res['pressure'] for res in results]\n",
    "results_frame['H2O_liq'] = [res['H2O_liq'] for res in results]\n",
    "results_frame['CO2_liq'] = [res['CO2_liq'] for res in results]\n",
    "results_frame['XH2O_fl'] = [res['XH2O_fl'] for res in results]\n",
    "results_frame['XCO2_fl'] = [res['XCO2_fl'] for res in results]\n",
    "results_frame['FluidProportion_wt'] = [res['FluidProportion_wt'] for res in results]"
   ]
  },
  {
   "cell_type": "code",
   "execution_count": 50,
   "metadata": {},
   "outputs": [
    {
     "data": {
      "text/html": [
       "<div>\n",
       "<style scoped>\n",
       "    .dataframe tbody tr th:only-of-type {\n",
       "        vertical-align: middle;\n",
       "    }\n",
       "\n",
       "    .dataframe tbody tr th {\n",
       "        vertical-align: top;\n",
       "    }\n",
       "\n",
       "    .dataframe thead th {\n",
       "        text-align: right;\n",
       "    }\n",
       "</style>\n",
       "<table border=\"1\" class=\"dataframe\">\n",
       "  <thead>\n",
       "    <tr style=\"text-align: right;\">\n",
       "      <th></th>\n",
       "      <th>Label</th>\n",
       "      <th>Modeled_Temperature(C)</th>\n",
       "      <th>Modeled_Pressure(bars)</th>\n",
       "      <th>H2O_liq</th>\n",
       "      <th>CO2_liq</th>\n",
       "      <th>XH2O_fl</th>\n",
       "      <th>XCO2_fl</th>\n",
       "      <th>FluidProportion_wt</th>\n",
       "    </tr>\n",
       "  </thead>\n",
       "  <tbody>\n",
       "    <tr>\n",
       "      <th>0</th>\n",
       "      <td>Kil3-6_1a</td>\n",
       "      <td>1000.0</td>\n",
       "      <td>5000.0</td>\n",
       "      <td>0.475959</td>\n",
       "      <td>0.348197</td>\n",
       "      <td>0.012459</td>\n",
       "      <td>0.987541</td>\n",
       "      <td>0.009673</td>\n",
       "    </tr>\n",
       "    <tr>\n",
       "      <th>1</th>\n",
       "      <td>Kil3-6_3a</td>\n",
       "      <td>1000.0</td>\n",
       "      <td>5000.0</td>\n",
       "      <td>0.477929</td>\n",
       "      <td>0.342640</td>\n",
       "      <td>0.012059</td>\n",
       "      <td>0.987941</td>\n",
       "      <td>0.004385</td>\n",
       "    </tr>\n",
       "    <tr>\n",
       "      <th>2</th>\n",
       "      <td>Kil3-6_4a</td>\n",
       "      <td>1000.0</td>\n",
       "      <td>5000.0</td>\n",
       "      <td>0.490619</td>\n",
       "      <td>0.313403</td>\n",
       "      <td>0.012713</td>\n",
       "      <td>0.987287</td>\n",
       "      <td>0.010969</td>\n",
       "    </tr>\n",
       "  </tbody>\n",
       "</table>\n",
       "</div>"
      ],
      "text/plain": [
       "       Label  Modeled_Temperature(C)  Modeled_Pressure(bars)   H2O_liq  \\\n",
       "0  Kil3-6_1a                  1000.0                  5000.0  0.475959   \n",
       "1  Kil3-6_3a                  1000.0                  5000.0  0.477929   \n",
       "2  Kil3-6_4a                  1000.0                  5000.0  0.490619   \n",
       "\n",
       "    CO2_liq   XH2O_fl   XCO2_fl  FluidProportion_wt  \n",
       "0  0.348197  0.012459  0.987541            0.009673  \n",
       "1  0.342640  0.012059  0.987941            0.004385  \n",
       "2  0.313403  0.012713  0.987287            0.010969  "
      ]
     },
     "execution_count": 50,
     "metadata": {},
     "output_type": "execute_result"
    }
   ],
   "source": [
    "# view the dataframe we just made\n",
    "results_frame"
   ]
  },
  {
   "cell_type": "markdown",
   "metadata": {},
   "source": [
    "Finally, we can output this dataframe as an xlsx file."
   ]
  },
  {
   "cell_type": "code",
   "execution_count": 51,
   "metadata": {},
   "outputs": [],
   "source": [
    "# export that dataframe to an xlsx file\n",
    "results_frame.to_excel(\"Modeling_Results.xlsx\")"
   ]
  },
  {
   "cell_type": "code",
   "execution_count": null,
   "metadata": {},
   "outputs": [],
   "source": []
  }
 ],
 "metadata": {
  "kernelspec": {
   "display_name": "Python 3",
   "language": "python",
   "name": "python3"
  },
  "language_info": {
   "codemirror_mode": {
    "name": "ipython",
    "version": 3
   },
   "file_extension": ".py",
   "mimetype": "text/x-python",
   "name": "python",
   "nbconvert_exporter": "python",
   "pygments_lexer": "ipython3",
   "version": "3.7.6"
  },
  "toc": {
   "base_numbering": 1,
   "nav_menu": {},
   "number_sections": true,
   "sideBar": true,
   "skip_h1_title": false,
   "title_cell": "Table of Contents",
   "title_sidebar": "Contents",
   "toc_cell": false,
   "toc_position": {},
   "toc_section_display": true,
   "toc_window_display": false
  }
 },
 "nbformat": 4,
 "nbformat_minor": 4
}
