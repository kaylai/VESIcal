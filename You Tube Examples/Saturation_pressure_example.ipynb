{
 "cells": [
  {
   "cell_type": "code",
   "execution_count": 2,
   "metadata": {},
   "outputs": [
    {
     "name": "stdout",
     "output_type": "stream",
     "text": [
      "Collecting VESIcal\n",
      "  Using cached VESIcal-0.9.12-py3-none-any.whl (111 kB)\n",
      "Requirement already satisfied: cycler in /opt/conda/lib/python3.8/site-packages (from VESIcal) (0.10.0)\n",
      "Requirement already satisfied: pandas in /opt/conda/lib/python3.8/site-packages (from VESIcal) (1.2.4)\n",
      "Requirement already satisfied: sympy in /opt/conda/lib/python3.8/site-packages (from VESIcal) (1.7.1)\n",
      "Requirement already satisfied: matplotlib in /opt/conda/lib/python3.8/site-packages (from VESIcal) (3.4.1)\n",
      "Requirement already satisfied: scipy in /opt/conda/lib/python3.8/site-packages (from VESIcal) (1.6.2)\n",
      "Requirement already satisfied: numpy in /opt/conda/lib/python3.8/site-packages (from VESIcal) (1.20.2)\n",
      "Requirement already satisfied: six in /opt/conda/lib/python3.8/site-packages (from cycler->VESIcal) (1.15.0)\n",
      "Requirement already satisfied: kiwisolver>=1.0.1 in /opt/conda/lib/python3.8/site-packages (from matplotlib->VESIcal) (1.3.1)\n",
      "Requirement already satisfied: pyparsing>=2.2.1 in /opt/conda/lib/python3.8/site-packages (from matplotlib->VESIcal) (2.4.7)\n",
      "Requirement already satisfied: python-dateutil>=2.7 in /opt/conda/lib/python3.8/site-packages (from matplotlib->VESIcal) (2.8.1)\n",
      "Requirement already satisfied: pillow>=6.2.0 in /opt/conda/lib/python3.8/site-packages (from matplotlib->VESIcal) (8.1.2)\n",
      "Requirement already satisfied: pytz>=2017.3 in /opt/conda/lib/python3.8/site-packages (from pandas->VESIcal) (2021.1)\n",
      "Requirement already satisfied: mpmath>=0.19 in /opt/conda/lib/python3.8/site-packages (from sympy->VESIcal) (1.2.1)\n",
      "Installing collected packages: VESIcal\n",
      "Successfully installed VESIcal-0.9.12\n"
     ]
    }
   ],
   "source": [
    "# This cell installs VESICal. You can comment out with a #\n",
    "!pip install VESIcal"
   ]
  },
  {
   "cell_type": "code",
   "execution_count": 3,
   "metadata": {},
   "outputs": [],
   "source": [
    "import VESIcal as v"
   ]
  },
  {
   "cell_type": "code",
   "execution_count": 4,
   "metadata": {},
   "outputs": [
    {
     "name": "stderr",
     "output_type": "stream",
     "text": [
      "/opt/conda/lib/python3.8/site-packages/ipykernel/ipkernel.py:283: DeprecationWarning: `should_run_async` will not call `transform_cell` automatically in the future. Please pass the result to `transformed_cell` argument and any exception that happen during thetransform in `preprocessing_exc_tuple` in IPython 7.17 and above.\n",
      "  and should_run_async(code)\n"
     ]
    }
   ],
   "source": [
    "# Importing matplotlib (python's plotting thing), pandas (pythons nice table formats) and numpy (python paths)\n",
    "import matplotlib.pyplot as plt\n",
    "import pandas as pd\n",
    "import numpy as np"
   ]
  },
  {
   "cell_type": "code",
   "execution_count": 7,
   "metadata": {},
   "outputs": [
    {
     "name": "stderr",
     "output_type": "stream",
     "text": [
      "/opt/conda/lib/python3.8/site-packages/ipykernel/ipkernel.py:283: DeprecationWarning: `should_run_async` will not call `transform_cell` automatically in the future. Please pass the result to `transformed_cell` argument and any exception that happen during thetransform in `preprocessing_exc_tuple` in IPython 7.17 and above.\n",
      "  and should_run_async(code)\n"
     ]
    }
   ],
   "source": [
    "# Load in melt inclusion data\n",
    "myfile= v.BatchFile('Cassidy2015_AndesiteMI_YouTubeDemo.xlsx', sheet_name='Sheet1',  input_type='wtpercent')"
   ]
  },
  {
   "cell_type": "code",
   "execution_count": 9,
   "metadata": {},
   "outputs": [
    {
     "name": "stderr",
     "output_type": "stream",
     "text": [
      "/opt/conda/lib/python3.8/site-packages/ipykernel/ipkernel.py:283: DeprecationWarning: `should_run_async` will not call `transform_cell` automatically in the future. Please pass the result to `transformed_cell` argument and any exception that happen during thetransform in `preprocessing_exc_tuple` in IPython 7.17 and above.\n",
      "  and should_run_async(code)\n"
     ]
    },
    {
     "data": {
      "text/html": [
       "<div>\n",
       "<style scoped>\n",
       "    .dataframe tbody tr th:only-of-type {\n",
       "        vertical-align: middle;\n",
       "    }\n",
       "\n",
       "    .dataframe tbody tr th {\n",
       "        vertical-align: top;\n",
       "    }\n",
       "\n",
       "    .dataframe thead th {\n",
       "        text-align: right;\n",
       "    }\n",
       "</style>\n",
       "<table border=\"1\" class=\"dataframe\">\n",
       "  <thead>\n",
       "    <tr style=\"text-align: right;\">\n",
       "      <th></th>\n",
       "      <th>SiO2</th>\n",
       "      <th>TiO2</th>\n",
       "      <th>Al2O3</th>\n",
       "      <th>Fe2O3</th>\n",
       "      <th>FeO</th>\n",
       "      <th>MnO</th>\n",
       "      <th>MgO</th>\n",
       "      <th>CaO</th>\n",
       "      <th>Na2O</th>\n",
       "      <th>K2O</th>\n",
       "      <th>H2O</th>\n",
       "      <th>CO2</th>\n",
       "      <th>Cr2O3</th>\n",
       "      <th>NiO</th>\n",
       "      <th>CoO</th>\n",
       "      <th>P2O5</th>\n",
       "      <th>Phase</th>\n",
       "      <th>Temp</th>\n",
       "    </tr>\n",
       "  </thead>\n",
       "  <tbody>\n",
       "    <tr>\n",
       "      <th>SSH4_1</th>\n",
       "      <td>64.6</td>\n",
       "      <td>0.86</td>\n",
       "      <td>16.4</td>\n",
       "      <td>0.663327</td>\n",
       "      <td>3.3830</td>\n",
       "      <td>0.0</td>\n",
       "      <td>0.87</td>\n",
       "      <td>4.53</td>\n",
       "      <td>4.08</td>\n",
       "      <td>1.05</td>\n",
       "      <td>5.06</td>\n",
       "      <td>0.0105</td>\n",
       "      <td>0.0</td>\n",
       "      <td>0.0</td>\n",
       "      <td>0.0</td>\n",
       "      <td>0.0</td>\n",
       "      <td>Pyx</td>\n",
       "      <td>1050</td>\n",
       "    </tr>\n",
       "    <tr>\n",
       "      <th>SSH4_2</th>\n",
       "      <td>63.6</td>\n",
       "      <td>0.59</td>\n",
       "      <td>16.5</td>\n",
       "      <td>0.573328</td>\n",
       "      <td>2.9240</td>\n",
       "      <td>0.0</td>\n",
       "      <td>0.78</td>\n",
       "      <td>4.24</td>\n",
       "      <td>4.31</td>\n",
       "      <td>0.97</td>\n",
       "      <td>5.08</td>\n",
       "      <td>0.0071</td>\n",
       "      <td>0.0</td>\n",
       "      <td>0.0</td>\n",
       "      <td>0.0</td>\n",
       "      <td>0.0</td>\n",
       "      <td>Pyx</td>\n",
       "      <td>1050</td>\n",
       "    </tr>\n",
       "    <tr>\n",
       "      <th>SSH10_1</th>\n",
       "      <td>58.7</td>\n",
       "      <td>0.68</td>\n",
       "      <td>15.0</td>\n",
       "      <td>0.928324</td>\n",
       "      <td>4.7345</td>\n",
       "      <td>0.0</td>\n",
       "      <td>2.36</td>\n",
       "      <td>5.70</td>\n",
       "      <td>2.13</td>\n",
       "      <td>2.22</td>\n",
       "      <td>5.62</td>\n",
       "      <td>0.0313</td>\n",
       "      <td>0.0</td>\n",
       "      <td>0.0</td>\n",
       "      <td>0.0</td>\n",
       "      <td>0.0</td>\n",
       "      <td>Ol</td>\n",
       "      <td>1050</td>\n",
       "    </tr>\n",
       "    <tr>\n",
       "      <th>SSH5B_1</th>\n",
       "      <td>67.6</td>\n",
       "      <td>0.48</td>\n",
       "      <td>17.0</td>\n",
       "      <td>0.079999</td>\n",
       "      <td>0.4080</td>\n",
       "      <td>0.0</td>\n",
       "      <td>0.02</td>\n",
       "      <td>3.14</td>\n",
       "      <td>4.51</td>\n",
       "      <td>1.58</td>\n",
       "      <td>6.19</td>\n",
       "      <td>0.0043</td>\n",
       "      <td>0.0</td>\n",
       "      <td>0.0</td>\n",
       "      <td>0.0</td>\n",
       "      <td>0.0</td>\n",
       "      <td>Pyx_2</td>\n",
       "      <td>1050</td>\n",
       "    </tr>\n",
       "    <tr>\n",
       "      <th>SSH5B_2</th>\n",
       "      <td>67.2</td>\n",
       "      <td>0.70</td>\n",
       "      <td>16.9</td>\n",
       "      <td>0.076666</td>\n",
       "      <td>0.3910</td>\n",
       "      <td>0.0</td>\n",
       "      <td>0.02</td>\n",
       "      <td>3.31</td>\n",
       "      <td>4.49</td>\n",
       "      <td>1.60</td>\n",
       "      <td>5.48</td>\n",
       "      <td>0.0052</td>\n",
       "      <td>0.0</td>\n",
       "      <td>0.0</td>\n",
       "      <td>0.0</td>\n",
       "      <td>0.0</td>\n",
       "      <td>Pyx</td>\n",
       "      <td>1050</td>\n",
       "    </tr>\n",
       "    <tr>\n",
       "      <th>SSH10</th>\n",
       "      <td>60.3</td>\n",
       "      <td>0.81</td>\n",
       "      <td>15.8</td>\n",
       "      <td>0.914991</td>\n",
       "      <td>4.6665</td>\n",
       "      <td>0.0</td>\n",
       "      <td>2.80</td>\n",
       "      <td>6.56</td>\n",
       "      <td>1.94</td>\n",
       "      <td>0.32</td>\n",
       "      <td>5.20</td>\n",
       "      <td>0.0250</td>\n",
       "      <td>0.0</td>\n",
       "      <td>0.0</td>\n",
       "      <td>0.0</td>\n",
       "      <td>0.0</td>\n",
       "      <td>Ol</td>\n",
       "      <td>1050</td>\n",
       "    </tr>\n",
       "    <tr>\n",
       "      <th>SSH5B</th>\n",
       "      <td>68.0</td>\n",
       "      <td>0.41</td>\n",
       "      <td>16.2</td>\n",
       "      <td>0.233331</td>\n",
       "      <td>1.1900</td>\n",
       "      <td>0.0</td>\n",
       "      <td>0.60</td>\n",
       "      <td>4.20</td>\n",
       "      <td>4.20</td>\n",
       "      <td>1.60</td>\n",
       "      <td>5.70</td>\n",
       "      <td>0.0180</td>\n",
       "      <td>0.0</td>\n",
       "      <td>0.0</td>\n",
       "      <td>0.0</td>\n",
       "      <td>0.0</td>\n",
       "      <td>Pyx</td>\n",
       "      <td>1050</td>\n",
       "    </tr>\n",
       "    <tr>\n",
       "      <th>SSH4_3</th>\n",
       "      <td>63.0</td>\n",
       "      <td>0.62</td>\n",
       "      <td>16.0</td>\n",
       "      <td>0.699993</td>\n",
       "      <td>3.5700</td>\n",
       "      <td>0.0</td>\n",
       "      <td>1.10</td>\n",
       "      <td>4.30</td>\n",
       "      <td>3.30</td>\n",
       "      <td>0.90</td>\n",
       "      <td>5.10</td>\n",
       "      <td>0.0140</td>\n",
       "      <td>0.0</td>\n",
       "      <td>0.0</td>\n",
       "      <td>0.0</td>\n",
       "      <td>0.0</td>\n",
       "      <td>Pyx</td>\n",
       "      <td>1050</td>\n",
       "    </tr>\n",
       "  </tbody>\n",
       "</table>\n",
       "</div>"
      ],
      "text/plain": [
       "         SiO2  TiO2  Al2O3     Fe2O3     FeO  MnO   MgO   CaO  Na2O   K2O  \\\n",
       "SSH4_1   64.6  0.86   16.4  0.663327  3.3830  0.0  0.87  4.53  4.08  1.05   \n",
       "SSH4_2   63.6  0.59   16.5  0.573328  2.9240  0.0  0.78  4.24  4.31  0.97   \n",
       "SSH10_1  58.7  0.68   15.0  0.928324  4.7345  0.0  2.36  5.70  2.13  2.22   \n",
       "SSH5B_1  67.6  0.48   17.0  0.079999  0.4080  0.0  0.02  3.14  4.51  1.58   \n",
       "SSH5B_2  67.2  0.70   16.9  0.076666  0.3910  0.0  0.02  3.31  4.49  1.60   \n",
       "SSH10    60.3  0.81   15.8  0.914991  4.6665  0.0  2.80  6.56  1.94  0.32   \n",
       "SSH5B    68.0  0.41   16.2  0.233331  1.1900  0.0  0.60  4.20  4.20  1.60   \n",
       "SSH4_3   63.0  0.62   16.0  0.699993  3.5700  0.0  1.10  4.30  3.30  0.90   \n",
       "\n",
       "          H2O     CO2  Cr2O3  NiO  CoO  P2O5  Phase  Temp  \n",
       "SSH4_1   5.06  0.0105    0.0  0.0  0.0   0.0    Pyx  1050  \n",
       "SSH4_2   5.08  0.0071    0.0  0.0  0.0   0.0    Pyx  1050  \n",
       "SSH10_1  5.62  0.0313    0.0  0.0  0.0   0.0     Ol  1050  \n",
       "SSH5B_1  6.19  0.0043    0.0  0.0  0.0   0.0  Pyx_2  1050  \n",
       "SSH5B_2  5.48  0.0052    0.0  0.0  0.0   0.0    Pyx  1050  \n",
       "SSH10    5.20  0.0250    0.0  0.0  0.0   0.0     Ol  1050  \n",
       "SSH5B    5.70  0.0180    0.0  0.0  0.0   0.0    Pyx  1050  \n",
       "SSH4_3   5.10  0.0140    0.0  0.0  0.0   0.0    Pyx  1050  "
      ]
     },
     "execution_count": 9,
     "metadata": {},
     "output_type": "execute_result"
    }
   ],
   "source": [
    "# Allows you to inspect data, and check VESIcal has read column headings correctly (e.g., non zero values for oxides)\n",
    "myfile.get_data()"
   ]
  },
  {
   "cell_type": "code",
   "execution_count": 10,
   "metadata": {},
   "outputs": [
    {
     "name": "stdout",
     "output_type": "stream",
     "text": [
      "[==                  ] 12%  Working on sample SSH4_1                            "
     ]
    },
    {
     "name": "stderr",
     "output_type": "stream",
     "text": [
      "/opt/conda/lib/python3.8/site-packages/ipykernel/ipkernel.py:283: DeprecationWarning: `should_run_async` will not call `transform_cell` automatically in the future. Please pass the result to `transformed_cell` argument and any exception that happen during thetransform in `preprocessing_exc_tuple` in IPython 7.17 and above.\n",
      "  and should_run_async(code)\n"
     ]
    },
    {
     "name": "stdout",
     "output_type": "stream",
     "text": [
      "[====================] 100%  Working on sample SSH4_3                            \n"
     ]
    }
   ],
   "source": [
    "Sat_P_MagmaSat=myfile.calculate_saturation_pressure(temperature=\"Temp\")"
   ]
  },
  {
   "cell_type": "code",
   "execution_count": 11,
   "metadata": {},
   "outputs": [
    {
     "data": {
      "text/plain": [
       "SSH4_1     1760\n",
       "SSH4_2     1740\n",
       "SSH10_1    2560\n",
       "SSH5B_1    2170\n",
       "SSH5B_2    1850\n",
       "SSH10      2210\n",
       "SSH5B      2090\n",
       "SSH4_3     1930\n",
       "Name: SaturationP_bars_VESIcal, dtype: int64"
      ]
     },
     "execution_count": 11,
     "metadata": {},
     "output_type": "execute_result"
    }
   ],
   "source": [
    "# Inspecting saturation pressures\n",
    "Sat_P_MagmaSat['SaturationP_bars_VESIcal']"
   ]
  },
  {
   "cell_type": "code",
   "execution_count": 12,
   "metadata": {},
   "outputs": [
    {
     "name": "stderr",
     "output_type": "stream",
     "text": [
      "/opt/conda/lib/python3.8/site-packages/VESIcal/model_classes.py:365: RuntimeWarning: Saturation pressure not found.\n",
      "  xx0 = model.calculate_saturation_pressure(sample=sample,**kwargs)\n"
     ]
    }
   ],
   "source": [
    "# Doing same, but using IaconoMarziano\n",
    "Sat_P_IaconoMarziano=myfile.calculate_saturation_pressure(temperature=\"Temp\", model='IaconoMarziano')"
   ]
  },
  {
   "cell_type": "code",
   "execution_count": 13,
   "metadata": {},
   "outputs": [],
   "source": [
    "# Calculating saturation pressures using the simplification of Dixon 1997 implemented in VolatileCalc\n",
    "Sat_P_Dixon=myfile.calculate_saturation_pressure(temperature=\"Temp\", model='Dixon')"
   ]
  },
  {
   "cell_type": "code",
   "execution_count": null,
   "metadata": {},
   "outputs": [],
   "source": [
    "# Comparing different models"
   ]
  },
  {
   "cell_type": "code",
   "execution_count": 23,
   "metadata": {},
   "outputs": [
    {
     "name": "stderr",
     "output_type": "stream",
     "text": [
      "/opt/conda/lib/python3.8/site-packages/ipykernel/ipkernel.py:283: DeprecationWarning: `should_run_async` will not call `transform_cell` automatically in the future. Please pass the result to `transformed_cell` argument and any exception that happen during thetransform in `preprocessing_exc_tuple` in IPython 7.17 and above.\n",
      "  and should_run_async(code)\n"
     ]
    },
    {
     "data": {
      "text/plain": [
       "Text(0.5, 0, 'H2O (wt%)')"
      ]
     },
     "execution_count": 23,
     "metadata": {},
     "output_type": "execute_result"
    },
    {
     "data": {
      "image/png": "[encoded data removed]",
      "text/plain": [
       "<Figure size 864x360 with 2 Axes>"
      ]
     },
     "metadata": {
      "needs_background": "light"
     },
     "output_type": "display_data"
    }
   ],
   "source": [
    "fig, ((ax1, ax2)) = plt.subplots(1, 2, figsize = (12,5))\n",
    "ax1.plot(Sat_P_MagmaSat['SaturationP_bars_VESIcal'], Sat_P_Dixon['SaturationP_bars_VESIcal'], 'ok')\n",
    "ax1.plot([1800, 3500], [1800, 3500], '-r')\n",
    "ax1.set_xlabel('Sat P MagmaSat')\n",
    "ax1.set_ylabel('Sat P VolatileCalc Basalt')\n",
    "\n",
    "ax2.plot(Sat_P_MagmaSat['H2O'], Sat_P_MagmaSat['SaturationP_bars_VESIcal'], 'ok')\n",
    "ax2.set_ylabel('Sat P MagmaSat')\n",
    "ax2.set_xlabel('H2O (wt%)')"
   ]
  },
  {
   "cell_type": "code",
   "execution_count": 24,
   "metadata": {},
   "outputs": [
    {
     "name": "stderr",
     "output_type": "stream",
     "text": [
      "/opt/conda/lib/python3.8/site-packages/ipykernel/ipkernel.py:283: DeprecationWarning: `should_run_async` will not call `transform_cell` automatically in the future. Please pass the result to `transformed_cell` argument and any exception that happen during thetransform in `preprocessing_exc_tuple` in IPython 7.17 and above.\n",
      "  and should_run_async(code)\n"
     ]
    },
    {
     "data": {
      "image/png": "[encoded data removed]",
      "text/plain": [
       "<Figure size 864x360 with 2 Axes>"
      ]
     },
     "metadata": {
      "needs_background": "light"
     },
     "output_type": "display_data"
    }
   ],
   "source": [
    "# Plotting as histograms (obviously this is a very small dataset, but that is to allow fast computation in this example!)\n",
    "fig, ((ax1, ax2)) = plt.subplots(1, 2, figsize = (12,5), sharex=True)\n",
    "ax1.hist(Sat_P_Dixon['SaturationP_bars_VESIcal'], color='cornflowerblue')\n",
    "ax2.hist(Sat_P_MagmaSat['SaturationP_bars_VESIcal'], color='grey')\n",
    "ax1.set_xlabel('Saturation pressure (bars)')\n",
    "ax2.set_xlabel('Saturation pressure (bars)')\n",
    "ax1.set_ylabel('# of measurements')\n",
    "ax1.locator_params(axis=\"both\", integer=True, tight=True)\n",
    "ax2.locator_params(axis=\"both\", integer=True, tight=True)\n",
    "\n",
    "fig.savefig('Andesitic_MIs_Histogram.svg', transparent=True)"
   ]
  },
  {
   "cell_type": "code",
   "execution_count": 25,
   "metadata": {},
   "outputs": [
    {
     "name": "stdout",
     "output_type": "stream",
     "text": [
      "Saved Andesite_MI_SatPs.xlsx\n"
     ]
    }
   ],
   "source": [
    "# Save calculations to excel for future reference\n",
    "myfile.save_excel(filename = 'Andesite_MI_SatPs.xlsx', calculations=[Sat_P_MagmaSat, Sat_P_Dixon], sheet_names=['Magmasat', 'Dixon'])"
   ]
  },
  {
   "cell_type": "code",
   "execution_count": null,
   "metadata": {},
   "outputs": [],
   "source": [
    "# Or just save a single set of calculations using Pandas\n",
    "Sat_P_IaconoMarziano.to_excel('SatP_IaconoMarziano.xlsx')"
   ]
  }
 ],
 "metadata": {
  "kernelspec": {
   "display_name": "Python 3",
   "language": "python",
   "name": "python3"
  },
  "language_info": {
   "codemirror_mode": {
    "name": "ipython",
    "version": 3
   },
   "file_extension": ".py",
   "mimetype": "text/x-python",
   "name": "python",
   "nbconvert_exporter": "python",
   "pygments_lexer": "ipython3",
   "version": "3.8.8"
  }
 },
 "nbformat": 4,
 "nbformat_minor": 4
}
