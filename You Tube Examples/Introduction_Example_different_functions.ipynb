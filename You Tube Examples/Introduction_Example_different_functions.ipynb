{
 "cells": [
  {
   "cell_type": "markdown",
   "id": "dfa14c8d-646f-4271-a600-73a33a170f1d",
   "metadata": {},
   "source": [
    "## This workbook shows some of the main functions you may wish to do using VESIcal.\n",
    "- For more examples, see our YouTube channel. https://www.youtube.com/channel/UCpvCCs5KMXzOxXWm0seF8Qw"
   ]
  },
  {
   "cell_type": "markdown",
   "id": "3956558a-2390-40b4-b240-c7a86f364396",
   "metadata": {},
   "source": [
    "## To run any cells with colored text, press \"shift + enter\" on a windows PC, and ⇧ and enter for Mac"
   ]
  },
  {
   "cell_type": "code",
   "execution_count": 13,
   "id": "b16cfd41-cb19-40b2-89cb-620d748ac712",
   "metadata": {},
   "outputs": [
    {
     "name": "stdout",
     "output_type": "stream",
     "text": [
      "Requirement already satisfied: VESIcal in /opt/conda/lib/python3.9/site-packages (1.0.2)\n",
      "Requirement already satisfied: sympy in /opt/conda/lib/python3.9/site-packages (from VESIcal) (1.8)\n",
      "Requirement already satisfied: pandas in /opt/conda/lib/python3.9/site-packages (from VESIcal) (1.3.3)\n",
      "Requirement already satisfied: cycler in /opt/conda/lib/python3.9/site-packages (from VESIcal) (0.10.0)\n",
      "Requirement already satisfied: matplotlib in /opt/conda/lib/python3.9/site-packages (from VESIcal) (3.4.3)\n",
      "Requirement already satisfied: numpy in /opt/conda/lib/python3.9/site-packages (from VESIcal) (1.20.3)\n",
      "Requirement already satisfied: scipy in /opt/conda/lib/python3.9/site-packages (from VESIcal) (1.7.1)\n",
      "Requirement already satisfied: six in /opt/conda/lib/python3.9/site-packages (from cycler->VESIcal) (1.16.0)\n",
      "Requirement already satisfied: pyparsing>=2.2.1 in /opt/conda/lib/python3.9/site-packages (from matplotlib->VESIcal) (2.4.7)\n",
      "Requirement already satisfied: python-dateutil>=2.7 in /opt/conda/lib/python3.9/site-packages (from matplotlib->VESIcal) (2.8.2)\n",
      "Requirement already satisfied: pillow>=6.2.0 in /opt/conda/lib/python3.9/site-packages (from matplotlib->VESIcal) (8.3.2)\n",
      "Requirement already satisfied: kiwisolver>=1.0.1 in /opt/conda/lib/python3.9/site-packages (from matplotlib->VESIcal) (1.3.2)\n",
      "Requirement already satisfied: pytz>=2017.3 in /opt/conda/lib/python3.9/site-packages (from pandas->VESIcal) (2021.1)\n",
      "Requirement already satisfied: mpmath>=0.19 in /opt/conda/lib/python3.9/site-packages (from sympy->VESIcal) (1.2.1)\n"
     ]
    }
   ],
   "source": [
    "# First, if you are running VESIcal locally, we need to install it. \n",
    "# If you are running on the ENKI server it is already installed, so you don't need to run this cell\n",
    "!pip install VESIcal"
   ]
  },
  {
   "cell_type": "markdown",
   "id": "7de5e222-ef9c-4a1f-9a8c-19d454c5a291",
   "metadata": {},
   "source": [
    "#### First step - Load in VESical and Python things"
   ]
  },
  {
   "cell_type": "code",
   "execution_count": 14,
   "id": "ac20afea-1f8b-4727-9727-df977a667553",
   "metadata": {},
   "outputs": [],
   "source": [
    "import pandas as pd\n",
    "import numpy as np\n",
    "import matplotlib.pyplot as plt\n",
    "import VESIcal as v"
   ]
  },
  {
   "cell_type": "markdown",
   "id": "29bf0c8a-abaa-4ba0-93a9-1162480f7341",
   "metadata": {},
   "source": [
    "#### Second step - this just sets some plotting parameters"
   ]
  },
  {
   "cell_type": "code",
   "execution_count": 15,
   "id": "287fe689-f8ba-4aee-b56e-ca31a7fe1347",
   "metadata": {},
   "outputs": [],
   "source": [
    "%matplotlib inline\n",
    "plt.style.use(\"seaborn-colorblind\")\n",
    "plt.rcParams[\"font.family\"] = 'arial'\n",
    "plt.rcParams[\"font.size\"] =12\n",
    "plt.rcParams[\"mathtext.default\"] = \"regular\"\n",
    "plt.rcParams[\"mathtext.fontset\"] = \"dejavusans\"\n",
    "plt.rcParams['patch.linewidth'] = 1\n",
    "plt.rcParams['axes.linewidth'] = 1 \n",
    "plt.rcParams[\"xtick.direction\"] = \"in\"\n",
    "plt.rcParams[\"ytick.direction\"] = \"in\"\n",
    "plt.rcParams[\"ytick.direction\"] = \"in\"\n",
    "plt.rcParams[\"xtick.major.size\"] = 6 # Sets length of ticks\n",
    "plt.rcParams[\"ytick.major.size\"] = 4 # Sets length of ticks\n",
    "plt.rcParams[\"ytick.labelsize\"] = 12 # Sets size of numbers on tick marks\n",
    "plt.rcParams[\"xtick.labelsize\"] = 12 # Sets size of numbers on tick marks\n",
    "plt.rcParams[\"axes.titlesize\"] = 14 # Overall title\n",
    "plt.rcParams[\"axes.labelsize\"] = 14 # Axes labels"
   ]
  },
  {
   "cell_type": "markdown",
   "id": "ae615a94-b3c6-4652-bf9e-a976cd0e9497",
   "metadata": {},
   "source": [
    "# Example 1 - Calculating saturation pressures for Cassidy et al. 2015\n",
    "- First load data\n",
    "- Then inspect data to check it ran properly\n",
    "- Then run saturation pressure calculation"
   ]
  },
  {
   "cell_type": "code",
   "execution_count": 16,
   "id": "ea434725-a31d-453b-8af4-d915d36280de",
   "metadata": {},
   "outputs": [],
   "source": [
    "# Load in melt inclusion data\n",
    "# Note, in the YouTube video, this was called \"BatchFile\". ExcelFile is the updated name. \n",
    "myfile= v.BatchFile('Cassidy2015_AndesiteMI_YouTubeDemo.xlsx', sheet_name='Sheet1',  input_type='wtpercent')"
   ]
  },
  {
   "cell_type": "code",
   "execution_count": 17,
   "id": "9b273a55-409f-47d6-af6a-4f64a6798e2d",
   "metadata": {},
   "outputs": [
    {
     "data": {
      "text/html": [
       "<div>\n",
       "<style scoped>\n",
       "    .dataframe tbody tr th:only-of-type {\n",
       "        vertical-align: middle;\n",
       "    }\n",
       "\n",
       "    .dataframe tbody tr th {\n",
       "        vertical-align: top;\n",
       "    }\n",
       "\n",
       "    .dataframe thead th {\n",
       "        text-align: right;\n",
       "    }\n",
       "</style>\n",
       "<table border=\"1\" class=\"dataframe\">\n",
       "  <thead>\n",
       "    <tr style=\"text-align: right;\">\n",
       "      <th></th>\n",
       "      <th>SiO2</th>\n",
       "      <th>TiO2</th>\n",
       "      <th>Al2O3</th>\n",
       "      <th>Fe2O3</th>\n",
       "      <th>FeO</th>\n",
       "      <th>MnO</th>\n",
       "      <th>MgO</th>\n",
       "      <th>CaO</th>\n",
       "      <th>Na2O</th>\n",
       "      <th>K2O</th>\n",
       "      <th>H2O</th>\n",
       "      <th>CO2</th>\n",
       "      <th>Cr2O3</th>\n",
       "      <th>NiO</th>\n",
       "      <th>CoO</th>\n",
       "      <th>P2O5</th>\n",
       "      <th>Phase</th>\n",
       "      <th>Temp</th>\n",
       "    </tr>\n",
       "  </thead>\n",
       "  <tbody>\n",
       "    <tr>\n",
       "      <th>SSH4_1</th>\n",
       "      <td>64.6</td>\n",
       "      <td>0.86</td>\n",
       "      <td>16.4</td>\n",
       "      <td>0.663327</td>\n",
       "      <td>3.3830</td>\n",
       "      <td>0.0</td>\n",
       "      <td>0.87</td>\n",
       "      <td>4.53</td>\n",
       "      <td>4.08</td>\n",
       "      <td>1.05</td>\n",
       "      <td>5.06</td>\n",
       "      <td>0.0105</td>\n",
       "      <td>0.0</td>\n",
       "      <td>0.0</td>\n",
       "      <td>0.0</td>\n",
       "      <td>0.0</td>\n",
       "      <td>Pyx</td>\n",
       "      <td>1050</td>\n",
       "    </tr>\n",
       "    <tr>\n",
       "      <th>SSH4_2</th>\n",
       "      <td>63.6</td>\n",
       "      <td>0.59</td>\n",
       "      <td>16.5</td>\n",
       "      <td>0.573328</td>\n",
       "      <td>2.9240</td>\n",
       "      <td>0.0</td>\n",
       "      <td>0.78</td>\n",
       "      <td>4.24</td>\n",
       "      <td>4.31</td>\n",
       "      <td>0.97</td>\n",
       "      <td>5.08</td>\n",
       "      <td>0.0071</td>\n",
       "      <td>0.0</td>\n",
       "      <td>0.0</td>\n",
       "      <td>0.0</td>\n",
       "      <td>0.0</td>\n",
       "      <td>Pyx</td>\n",
       "      <td>1050</td>\n",
       "    </tr>\n",
       "    <tr>\n",
       "      <th>SSH10_1</th>\n",
       "      <td>58.7</td>\n",
       "      <td>0.68</td>\n",
       "      <td>15.0</td>\n",
       "      <td>0.928324</td>\n",
       "      <td>4.7345</td>\n",
       "      <td>0.0</td>\n",
       "      <td>2.36</td>\n",
       "      <td>5.70</td>\n",
       "      <td>2.13</td>\n",
       "      <td>2.22</td>\n",
       "      <td>5.62</td>\n",
       "      <td>0.0313</td>\n",
       "      <td>0.0</td>\n",
       "      <td>0.0</td>\n",
       "      <td>0.0</td>\n",
       "      <td>0.0</td>\n",
       "      <td>Ol</td>\n",
       "      <td>1050</td>\n",
       "    </tr>\n",
       "    <tr>\n",
       "      <th>SSH5B_1</th>\n",
       "      <td>67.6</td>\n",
       "      <td>0.48</td>\n",
       "      <td>17.0</td>\n",
       "      <td>0.079999</td>\n",
       "      <td>0.4080</td>\n",
       "      <td>0.0</td>\n",
       "      <td>0.02</td>\n",
       "      <td>3.14</td>\n",
       "      <td>4.51</td>\n",
       "      <td>1.58</td>\n",
       "      <td>6.19</td>\n",
       "      <td>0.0043</td>\n",
       "      <td>0.0</td>\n",
       "      <td>0.0</td>\n",
       "      <td>0.0</td>\n",
       "      <td>0.0</td>\n",
       "      <td>Pyx_2</td>\n",
       "      <td>1050</td>\n",
       "    </tr>\n",
       "    <tr>\n",
       "      <th>SSH5B_2</th>\n",
       "      <td>67.2</td>\n",
       "      <td>0.70</td>\n",
       "      <td>16.9</td>\n",
       "      <td>0.076666</td>\n",
       "      <td>0.3910</td>\n",
       "      <td>0.0</td>\n",
       "      <td>0.02</td>\n",
       "      <td>3.31</td>\n",
       "      <td>4.49</td>\n",
       "      <td>1.60</td>\n",
       "      <td>5.48</td>\n",
       "      <td>0.0052</td>\n",
       "      <td>0.0</td>\n",
       "      <td>0.0</td>\n",
       "      <td>0.0</td>\n",
       "      <td>0.0</td>\n",
       "      <td>Pyx</td>\n",
       "      <td>1050</td>\n",
       "    </tr>\n",
       "    <tr>\n",
       "      <th>SSH10</th>\n",
       "      <td>60.3</td>\n",
       "      <td>0.81</td>\n",
       "      <td>15.8</td>\n",
       "      <td>0.914991</td>\n",
       "      <td>4.6665</td>\n",
       "      <td>0.0</td>\n",
       "      <td>2.80</td>\n",
       "      <td>6.56</td>\n",
       "      <td>1.94</td>\n",
       "      <td>0.32</td>\n",
       "      <td>5.20</td>\n",
       "      <td>0.0250</td>\n",
       "      <td>0.0</td>\n",
       "      <td>0.0</td>\n",
       "      <td>0.0</td>\n",
       "      <td>0.0</td>\n",
       "      <td>Ol</td>\n",
       "      <td>1050</td>\n",
       "    </tr>\n",
       "    <tr>\n",
       "      <th>SSH5B</th>\n",
       "      <td>68.0</td>\n",
       "      <td>0.41</td>\n",
       "      <td>16.2</td>\n",
       "      <td>0.233331</td>\n",
       "      <td>1.1900</td>\n",
       "      <td>0.0</td>\n",
       "      <td>0.60</td>\n",
       "      <td>4.20</td>\n",
       "      <td>4.20</td>\n",
       "      <td>1.60</td>\n",
       "      <td>5.70</td>\n",
       "      <td>0.0180</td>\n",
       "      <td>0.0</td>\n",
       "      <td>0.0</td>\n",
       "      <td>0.0</td>\n",
       "      <td>0.0</td>\n",
       "      <td>Pyx</td>\n",
       "      <td>1050</td>\n",
       "    </tr>\n",
       "    <tr>\n",
       "      <th>SSH4_3</th>\n",
       "      <td>63.0</td>\n",
       "      <td>0.62</td>\n",
       "      <td>16.0</td>\n",
       "      <td>0.699993</td>\n",
       "      <td>3.5700</td>\n",
       "      <td>0.0</td>\n",
       "      <td>1.10</td>\n",
       "      <td>4.30</td>\n",
       "      <td>3.30</td>\n",
       "      <td>0.90</td>\n",
       "      <td>5.10</td>\n",
       "      <td>0.0140</td>\n",
       "      <td>0.0</td>\n",
       "      <td>0.0</td>\n",
       "      <td>0.0</td>\n",
       "      <td>0.0</td>\n",
       "      <td>Pyx</td>\n",
       "      <td>1050</td>\n",
       "    </tr>\n",
       "  </tbody>\n",
       "</table>\n",
       "</div>"
      ],
      "text/plain": [
       "         SiO2  TiO2  Al2O3     Fe2O3     FeO  MnO   MgO   CaO  Na2O   K2O  \\\n",
       "SSH4_1   64.6  0.86   16.4  0.663327  3.3830  0.0  0.87  4.53  4.08  1.05   \n",
       "SSH4_2   63.6  0.59   16.5  0.573328  2.9240  0.0  0.78  4.24  4.31  0.97   \n",
       "SSH10_1  58.7  0.68   15.0  0.928324  4.7345  0.0  2.36  5.70  2.13  2.22   \n",
       "SSH5B_1  67.6  0.48   17.0  0.079999  0.4080  0.0  0.02  3.14  4.51  1.58   \n",
       "SSH5B_2  67.2  0.70   16.9  0.076666  0.3910  0.0  0.02  3.31  4.49  1.60   \n",
       "SSH10    60.3  0.81   15.8  0.914991  4.6665  0.0  2.80  6.56  1.94  0.32   \n",
       "SSH5B    68.0  0.41   16.2  0.233331  1.1900  0.0  0.60  4.20  4.20  1.60   \n",
       "SSH4_3   63.0  0.62   16.0  0.699993  3.5700  0.0  1.10  4.30  3.30  0.90   \n",
       "\n",
       "          H2O     CO2  Cr2O3  NiO  CoO  P2O5  Phase  Temp  \n",
       "SSH4_1   5.06  0.0105    0.0  0.0  0.0   0.0    Pyx  1050  \n",
       "SSH4_2   5.08  0.0071    0.0  0.0  0.0   0.0    Pyx  1050  \n",
       "SSH10_1  5.62  0.0313    0.0  0.0  0.0   0.0     Ol  1050  \n",
       "SSH5B_1  6.19  0.0043    0.0  0.0  0.0   0.0  Pyx_2  1050  \n",
       "SSH5B_2  5.48  0.0052    0.0  0.0  0.0   0.0    Pyx  1050  \n",
       "SSH10    5.20  0.0250    0.0  0.0  0.0   0.0     Ol  1050  \n",
       "SSH5B    5.70  0.0180    0.0  0.0  0.0   0.0    Pyx  1050  \n",
       "SSH4_3   5.10  0.0140    0.0  0.0  0.0   0.0    Pyx  1050  "
      ]
     },
     "execution_count": 17,
     "metadata": {},
     "output_type": "execute_result"
    }
   ],
   "source": [
    "# Allows you to inspect data, and check VESIcal has read column headings correctly (e.g., non zero values for oxides)\n",
    "data=myfile.get_data()\n",
    "data"
   ]
  },
  {
   "cell_type": "markdown",
   "id": "ba0ba013-b399-4f91-bd94-690e215a28da",
   "metadata": {},
   "source": [
    "## By default, VESIcal uses MagmaSat"
   ]
  },
  {
   "cell_type": "code",
   "execution_count": 18,
   "id": "c51bcdf7-0c43-4905-bcee-50b2b2b72b57",
   "metadata": {},
   "outputs": [
    {
     "name": "stdout",
     "output_type": "stream",
     "text": [
      "[====================] 100%  Working on sample SSH4_3                            \n"
     ]
    }
   ],
   "source": [
    "Sat_P_MagmaSat=myfile.calculate_saturation_pressure(temperature=\"Temp\")"
   ]
  },
  {
   "cell_type": "code",
   "execution_count": 19,
   "id": "3fe9b04a-c8ad-4aa4-869a-9ff345fc45d3",
   "metadata": {},
   "outputs": [
    {
     "data": {
      "text/html": [
       "<div>\n",
       "<style scoped>\n",
       "    .dataframe tbody tr th:only-of-type {\n",
       "        vertical-align: middle;\n",
       "    }\n",
       "\n",
       "    .dataframe tbody tr th {\n",
       "        vertical-align: top;\n",
       "    }\n",
       "\n",
       "    .dataframe thead th {\n",
       "        text-align: right;\n",
       "    }\n",
       "</style>\n",
       "<table border=\"1\" class=\"dataframe\">\n",
       "  <thead>\n",
       "    <tr style=\"text-align: right;\">\n",
       "      <th></th>\n",
       "      <th>SiO2</th>\n",
       "      <th>TiO2</th>\n",
       "      <th>Al2O3</th>\n",
       "      <th>Fe2O3</th>\n",
       "      <th>FeO</th>\n",
       "      <th>MnO</th>\n",
       "      <th>MgO</th>\n",
       "      <th>CaO</th>\n",
       "      <th>Na2O</th>\n",
       "      <th>K2O</th>\n",
       "      <th>...</th>\n",
       "      <th>P2O5</th>\n",
       "      <th>Phase</th>\n",
       "      <th>Temp</th>\n",
       "      <th>SaturationP_bars_VESIcal</th>\n",
       "      <th>XH2O_fl_VESIcal</th>\n",
       "      <th>XCO2_fl_VESIcal</th>\n",
       "      <th>FluidMass_grams_VESIcal</th>\n",
       "      <th>FluidSystem_wt_VESIcal</th>\n",
       "      <th>Model</th>\n",
       "      <th>Warnings</th>\n",
       "    </tr>\n",
       "  </thead>\n",
       "  <tbody>\n",
       "    <tr>\n",
       "      <th>SSH4_1</th>\n",
       "      <td>64.6</td>\n",
       "      <td>0.86</td>\n",
       "      <td>16.4</td>\n",
       "      <td>0.663327</td>\n",
       "      <td>3.3830</td>\n",
       "      <td>0.0</td>\n",
       "      <td>0.87</td>\n",
       "      <td>4.53</td>\n",
       "      <td>4.08</td>\n",
       "      <td>1.05</td>\n",
       "      <td>...</td>\n",
       "      <td>0.0</td>\n",
       "      <td>Pyx</td>\n",
       "      <td>1050</td>\n",
       "      <td>1800</td>\n",
       "      <td>0.930494</td>\n",
       "      <td>0.069506</td>\n",
       "      <td>0.001700</td>\n",
       "      <td>0.001700</td>\n",
       "      <td>MagmaSat</td>\n",
       "      <td></td>\n",
       "    </tr>\n",
       "    <tr>\n",
       "      <th>SSH4_2</th>\n",
       "      <td>63.6</td>\n",
       "      <td>0.59</td>\n",
       "      <td>16.5</td>\n",
       "      <td>0.573328</td>\n",
       "      <td>2.9240</td>\n",
       "      <td>0.0</td>\n",
       "      <td>0.78</td>\n",
       "      <td>4.24</td>\n",
       "      <td>4.31</td>\n",
       "      <td>0.97</td>\n",
       "      <td>...</td>\n",
       "      <td>0.0</td>\n",
       "      <td>Pyx</td>\n",
       "      <td>1050</td>\n",
       "      <td>1730</td>\n",
       "      <td>0.949781</td>\n",
       "      <td>0.050219</td>\n",
       "      <td>0.002595</td>\n",
       "      <td>0.002595</td>\n",
       "      <td>MagmaSat</td>\n",
       "      <td></td>\n",
       "    </tr>\n",
       "    <tr>\n",
       "      <th>SSH10_1</th>\n",
       "      <td>58.7</td>\n",
       "      <td>0.68</td>\n",
       "      <td>15.0</td>\n",
       "      <td>0.928324</td>\n",
       "      <td>4.7345</td>\n",
       "      <td>0.0</td>\n",
       "      <td>2.36</td>\n",
       "      <td>5.70</td>\n",
       "      <td>2.13</td>\n",
       "      <td>2.22</td>\n",
       "      <td>...</td>\n",
       "      <td>0.0</td>\n",
       "      <td>Ol</td>\n",
       "      <td>1050</td>\n",
       "      <td>2490</td>\n",
       "      <td>0.877070</td>\n",
       "      <td>0.122930</td>\n",
       "      <td>0.001205</td>\n",
       "      <td>0.001205</td>\n",
       "      <td>MagmaSat</td>\n",
       "      <td></td>\n",
       "    </tr>\n",
       "    <tr>\n",
       "      <th>SSH5B_1</th>\n",
       "      <td>67.6</td>\n",
       "      <td>0.48</td>\n",
       "      <td>17.0</td>\n",
       "      <td>0.079999</td>\n",
       "      <td>0.4080</td>\n",
       "      <td>0.0</td>\n",
       "      <td>0.02</td>\n",
       "      <td>3.14</td>\n",
       "      <td>4.51</td>\n",
       "      <td>1.58</td>\n",
       "      <td>...</td>\n",
       "      <td>0.0</td>\n",
       "      <td>Pyx_2</td>\n",
       "      <td>1050</td>\n",
       "      <td>2200</td>\n",
       "      <td>0.979196</td>\n",
       "      <td>0.020804</td>\n",
       "      <td>0.004954</td>\n",
       "      <td>0.004954</td>\n",
       "      <td>MagmaSat</td>\n",
       "      <td></td>\n",
       "    </tr>\n",
       "    <tr>\n",
       "      <th>SSH5B_2</th>\n",
       "      <td>67.2</td>\n",
       "      <td>0.70</td>\n",
       "      <td>16.9</td>\n",
       "      <td>0.076666</td>\n",
       "      <td>0.3910</td>\n",
       "      <td>0.0</td>\n",
       "      <td>0.02</td>\n",
       "      <td>3.31</td>\n",
       "      <td>4.49</td>\n",
       "      <td>1.60</td>\n",
       "      <td>...</td>\n",
       "      <td>0.0</td>\n",
       "      <td>Pyx</td>\n",
       "      <td>1050</td>\n",
       "      <td>1850</td>\n",
       "      <td>0.967241</td>\n",
       "      <td>0.032759</td>\n",
       "      <td>0.004541</td>\n",
       "      <td>0.004541</td>\n",
       "      <td>MagmaSat</td>\n",
       "      <td></td>\n",
       "    </tr>\n",
       "    <tr>\n",
       "      <th>SSH10</th>\n",
       "      <td>60.3</td>\n",
       "      <td>0.81</td>\n",
       "      <td>15.8</td>\n",
       "      <td>0.914991</td>\n",
       "      <td>4.6665</td>\n",
       "      <td>0.0</td>\n",
       "      <td>2.80</td>\n",
       "      <td>6.56</td>\n",
       "      <td>1.94</td>\n",
       "      <td>0.32</td>\n",
       "      <td>...</td>\n",
       "      <td>0.0</td>\n",
       "      <td>Ol</td>\n",
       "      <td>1050</td>\n",
       "      <td>2190</td>\n",
       "      <td>0.885064</td>\n",
       "      <td>0.114936</td>\n",
       "      <td>0.001682</td>\n",
       "      <td>0.001682</td>\n",
       "      <td>MagmaSat</td>\n",
       "      <td></td>\n",
       "    </tr>\n",
       "    <tr>\n",
       "      <th>SSH5B</th>\n",
       "      <td>68.0</td>\n",
       "      <td>0.41</td>\n",
       "      <td>16.2</td>\n",
       "      <td>0.233331</td>\n",
       "      <td>1.1900</td>\n",
       "      <td>0.0</td>\n",
       "      <td>0.60</td>\n",
       "      <td>4.20</td>\n",
       "      <td>4.20</td>\n",
       "      <td>1.60</td>\n",
       "      <td>...</td>\n",
       "      <td>0.0</td>\n",
       "      <td>Pyx</td>\n",
       "      <td>1050</td>\n",
       "      <td>2170</td>\n",
       "      <td>0.903315</td>\n",
       "      <td>0.096685</td>\n",
       "      <td>0.000074</td>\n",
       "      <td>0.000074</td>\n",
       "      <td>MagmaSat</td>\n",
       "      <td></td>\n",
       "    </tr>\n",
       "    <tr>\n",
       "      <th>SSH4_3</th>\n",
       "      <td>63.0</td>\n",
       "      <td>0.62</td>\n",
       "      <td>16.0</td>\n",
       "      <td>0.699993</td>\n",
       "      <td>3.5700</td>\n",
       "      <td>0.0</td>\n",
       "      <td>1.10</td>\n",
       "      <td>4.30</td>\n",
       "      <td>3.30</td>\n",
       "      <td>0.90</td>\n",
       "      <td>...</td>\n",
       "      <td>0.0</td>\n",
       "      <td>Pyx</td>\n",
       "      <td>1050</td>\n",
       "      <td>1890</td>\n",
       "      <td>0.915986</td>\n",
       "      <td>0.084014</td>\n",
       "      <td>0.000646</td>\n",
       "      <td>0.000646</td>\n",
       "      <td>MagmaSat</td>\n",
       "      <td></td>\n",
       "    </tr>\n",
       "  </tbody>\n",
       "</table>\n",
       "<p>8 rows × 25 columns</p>\n",
       "</div>"
      ],
      "text/plain": [
       "         SiO2  TiO2  Al2O3     Fe2O3     FeO  MnO   MgO   CaO  Na2O   K2O  \\\n",
       "SSH4_1   64.6  0.86   16.4  0.663327  3.3830  0.0  0.87  4.53  4.08  1.05   \n",
       "SSH4_2   63.6  0.59   16.5  0.573328  2.9240  0.0  0.78  4.24  4.31  0.97   \n",
       "SSH10_1  58.7  0.68   15.0  0.928324  4.7345  0.0  2.36  5.70  2.13  2.22   \n",
       "SSH5B_1  67.6  0.48   17.0  0.079999  0.4080  0.0  0.02  3.14  4.51  1.58   \n",
       "SSH5B_2  67.2  0.70   16.9  0.076666  0.3910  0.0  0.02  3.31  4.49  1.60   \n",
       "SSH10    60.3  0.81   15.8  0.914991  4.6665  0.0  2.80  6.56  1.94  0.32   \n",
       "SSH5B    68.0  0.41   16.2  0.233331  1.1900  0.0  0.60  4.20  4.20  1.60   \n",
       "SSH4_3   63.0  0.62   16.0  0.699993  3.5700  0.0  1.10  4.30  3.30  0.90   \n",
       "\n",
       "         ...  P2O5  Phase  Temp  SaturationP_bars_VESIcal  XH2O_fl_VESIcal  \\\n",
       "SSH4_1   ...   0.0    Pyx  1050                      1800         0.930494   \n",
       "SSH4_2   ...   0.0    Pyx  1050                      1730         0.949781   \n",
       "SSH10_1  ...   0.0     Ol  1050                      2490         0.877070   \n",
       "SSH5B_1  ...   0.0  Pyx_2  1050                      2200         0.979196   \n",
       "SSH5B_2  ...   0.0    Pyx  1050                      1850         0.967241   \n",
       "SSH10    ...   0.0     Ol  1050                      2190         0.885064   \n",
       "SSH5B    ...   0.0    Pyx  1050                      2170         0.903315   \n",
       "SSH4_3   ...   0.0    Pyx  1050                      1890         0.915986   \n",
       "\n",
       "         XCO2_fl_VESIcal FluidMass_grams_VESIcal  FluidSystem_wt_VESIcal  \\\n",
       "SSH4_1          0.069506                0.001700                0.001700   \n",
       "SSH4_2          0.050219                0.002595                0.002595   \n",
       "SSH10_1         0.122930                0.001205                0.001205   \n",
       "SSH5B_1         0.020804                0.004954                0.004954   \n",
       "SSH5B_2         0.032759                0.004541                0.004541   \n",
       "SSH10           0.114936                0.001682                0.001682   \n",
       "SSH5B           0.096685                0.000074                0.000074   \n",
       "SSH4_3          0.084014                0.000646                0.000646   \n",
       "\n",
       "            Model  Warnings  \n",
       "SSH4_1   MagmaSat            \n",
       "SSH4_2   MagmaSat            \n",
       "SSH10_1  MagmaSat            \n",
       "SSH5B_1  MagmaSat            \n",
       "SSH5B_2  MagmaSat            \n",
       "SSH10    MagmaSat            \n",
       "SSH5B    MagmaSat            \n",
       "SSH4_3   MagmaSat            \n",
       "\n",
       "[8 rows x 25 columns]"
      ]
     },
     "execution_count": 19,
     "metadata": {},
     "output_type": "execute_result"
    }
   ],
   "source": [
    "## We can look at this output\n",
    "Sat_P_MagmaSat"
   ]
  },
  {
   "cell_type": "code",
   "execution_count": 20,
   "id": "c2b1b15b-5266-4cb8-a87c-b6c1efcd1018",
   "metadata": {},
   "outputs": [],
   "source": [
    "## We can save this output to Excel\n",
    "Sat_P_MagmaSat.to_excel('SatP_Cassidy_MagmaSat.xlsx')"
   ]
  },
  {
   "cell_type": "markdown",
   "id": "f38ab7e7-e701-4bd0-aa87-92696730302b",
   "metadata": {},
   "source": [
    "## We can also run the calculation using another model, we can find model names using the built-in documentation\n"
   ]
  },
  {
   "cell_type": "code",
   "execution_count": 21,
   "id": "02a730d3-3784-42e5-b26c-07f529260a2d",
   "metadata": {},
   "outputs": [
    {
     "data": {
      "text/plain": [
       "['ShishkinaIdealMixing',\n",
       " 'Dixon',\n",
       " 'IaconoMarziano',\n",
       " 'Liu',\n",
       " 'ShishkinaCarbon',\n",
       " 'ShishkinaWater',\n",
       " 'DixonCarbon',\n",
       " 'DixonWater',\n",
       " 'IaconoMarzianoCarbon',\n",
       " 'IaconoMarzianoWater',\n",
       " 'AllisonCarbon',\n",
       " 'AllisonCarbon_sunset',\n",
       " 'AllisonCarbon_sfvf',\n",
       " 'AllisonCarbon_erebus',\n",
       " 'AllisonCarbon_vesuvius',\n",
       " 'AllisonCarbon_etna',\n",
       " 'AllisonCarbon_stromboli',\n",
       " 'MooreWater',\n",
       " 'LiuWater',\n",
       " 'LiuCarbon']"
      ]
     },
     "execution_count": 21,
     "metadata": {},
     "output_type": "execute_result"
    }
   ],
   "source": [
    "v.get_model_names()"
   ]
  },
  {
   "cell_type": "markdown",
   "id": "900e74e9-4621-465e-a0f8-a3e02f6aa103",
   "metadata": {},
   "source": [
    "## Lets use Dixon (VolatileCalc Basalt)"
   ]
  },
  {
   "cell_type": "code",
   "execution_count": 22,
   "id": "72e6ae38-cfd1-41e1-80f3-d1a804edc59d",
   "metadata": {},
   "outputs": [
    {
     "data": {
      "text/html": [
       "<div>\n",
       "<style scoped>\n",
       "    .dataframe tbody tr th:only-of-type {\n",
       "        vertical-align: middle;\n",
       "    }\n",
       "\n",
       "    .dataframe tbody tr th {\n",
       "        vertical-align: top;\n",
       "    }\n",
       "\n",
       "    .dataframe thead th {\n",
       "        text-align: right;\n",
       "    }\n",
       "</style>\n",
       "<table border=\"1\" class=\"dataframe\">\n",
       "  <thead>\n",
       "    <tr style=\"text-align: right;\">\n",
       "      <th></th>\n",
       "      <th>SiO2</th>\n",
       "      <th>TiO2</th>\n",
       "      <th>Al2O3</th>\n",
       "      <th>Fe2O3</th>\n",
       "      <th>FeO</th>\n",
       "      <th>MnO</th>\n",
       "      <th>MgO</th>\n",
       "      <th>CaO</th>\n",
       "      <th>Na2O</th>\n",
       "      <th>K2O</th>\n",
       "      <th>...</th>\n",
       "      <th>CO2</th>\n",
       "      <th>Cr2O3</th>\n",
       "      <th>NiO</th>\n",
       "      <th>CoO</th>\n",
       "      <th>P2O5</th>\n",
       "      <th>Phase</th>\n",
       "      <th>Temp</th>\n",
       "      <th>SaturationP_bars_VESIcal</th>\n",
       "      <th>Model</th>\n",
       "      <th>Warnings</th>\n",
       "    </tr>\n",
       "  </thead>\n",
       "  <tbody>\n",
       "    <tr>\n",
       "      <th>SSH4_1</th>\n",
       "      <td>64.6</td>\n",
       "      <td>0.86</td>\n",
       "      <td>16.4</td>\n",
       "      <td>0.663327</td>\n",
       "      <td>3.3830</td>\n",
       "      <td>0.0</td>\n",
       "      <td>0.87</td>\n",
       "      <td>4.53</td>\n",
       "      <td>4.08</td>\n",
       "      <td>1.05</td>\n",
       "      <td>...</td>\n",
       "      <td>0.0105</td>\n",
       "      <td>0.0</td>\n",
       "      <td>0.0</td>\n",
       "      <td>0.0</td>\n",
       "      <td>0.0</td>\n",
       "      <td>Pyx</td>\n",
       "      <td>1050</td>\n",
       "      <td>2635.481101</td>\n",
       "      <td>Dixon</td>\n",
       "      <td></td>\n",
       "    </tr>\n",
       "    <tr>\n",
       "      <th>SSH4_2</th>\n",
       "      <td>63.6</td>\n",
       "      <td>0.59</td>\n",
       "      <td>16.5</td>\n",
       "      <td>0.573328</td>\n",
       "      <td>2.9240</td>\n",
       "      <td>0.0</td>\n",
       "      <td>0.78</td>\n",
       "      <td>4.24</td>\n",
       "      <td>4.31</td>\n",
       "      <td>0.97</td>\n",
       "      <td>...</td>\n",
       "      <td>0.0071</td>\n",
       "      <td>0.0</td>\n",
       "      <td>0.0</td>\n",
       "      <td>0.0</td>\n",
       "      <td>0.0</td>\n",
       "      <td>Pyx</td>\n",
       "      <td>1050</td>\n",
       "      <td>2578.048128</td>\n",
       "      <td>Dixon</td>\n",
       "      <td></td>\n",
       "    </tr>\n",
       "    <tr>\n",
       "      <th>SSH10_1</th>\n",
       "      <td>58.7</td>\n",
       "      <td>0.68</td>\n",
       "      <td>15.0</td>\n",
       "      <td>0.928324</td>\n",
       "      <td>4.7345</td>\n",
       "      <td>0.0</td>\n",
       "      <td>2.36</td>\n",
       "      <td>5.70</td>\n",
       "      <td>2.13</td>\n",
       "      <td>2.22</td>\n",
       "      <td>...</td>\n",
       "      <td>0.0313</td>\n",
       "      <td>0.0</td>\n",
       "      <td>0.0</td>\n",
       "      <td>0.0</td>\n",
       "      <td>0.0</td>\n",
       "      <td>Ol</td>\n",
       "      <td>1050</td>\n",
       "      <td>3511.902596</td>\n",
       "      <td>Dixon</td>\n",
       "      <td></td>\n",
       "    </tr>\n",
       "    <tr>\n",
       "      <th>SSH5B_1</th>\n",
       "      <td>67.6</td>\n",
       "      <td>0.48</td>\n",
       "      <td>17.0</td>\n",
       "      <td>0.079999</td>\n",
       "      <td>0.4080</td>\n",
       "      <td>0.0</td>\n",
       "      <td>0.02</td>\n",
       "      <td>3.14</td>\n",
       "      <td>4.51</td>\n",
       "      <td>1.58</td>\n",
       "      <td>...</td>\n",
       "      <td>0.0043</td>\n",
       "      <td>0.0</td>\n",
       "      <td>0.0</td>\n",
       "      <td>0.0</td>\n",
       "      <td>0.0</td>\n",
       "      <td>Pyx_2</td>\n",
       "      <td>1050</td>\n",
       "      <td>3460.577410</td>\n",
       "      <td>Dixon</td>\n",
       "      <td></td>\n",
       "    </tr>\n",
       "    <tr>\n",
       "      <th>SSH5B_2</th>\n",
       "      <td>67.2</td>\n",
       "      <td>0.70</td>\n",
       "      <td>16.9</td>\n",
       "      <td>0.076666</td>\n",
       "      <td>0.3910</td>\n",
       "      <td>0.0</td>\n",
       "      <td>0.02</td>\n",
       "      <td>3.31</td>\n",
       "      <td>4.49</td>\n",
       "      <td>1.60</td>\n",
       "      <td>...</td>\n",
       "      <td>0.0052</td>\n",
       "      <td>0.0</td>\n",
       "      <td>0.0</td>\n",
       "      <td>0.0</td>\n",
       "      <td>0.0</td>\n",
       "      <td>Pyx</td>\n",
       "      <td>1050</td>\n",
       "      <td>2870.231303</td>\n",
       "      <td>Dixon</td>\n",
       "      <td></td>\n",
       "    </tr>\n",
       "    <tr>\n",
       "      <th>SSH10</th>\n",
       "      <td>60.3</td>\n",
       "      <td>0.81</td>\n",
       "      <td>15.8</td>\n",
       "      <td>0.914991</td>\n",
       "      <td>4.6665</td>\n",
       "      <td>0.0</td>\n",
       "      <td>2.80</td>\n",
       "      <td>6.56</td>\n",
       "      <td>1.94</td>\n",
       "      <td>0.32</td>\n",
       "      <td>...</td>\n",
       "      <td>0.0250</td>\n",
       "      <td>0.0</td>\n",
       "      <td>0.0</td>\n",
       "      <td>0.0</td>\n",
       "      <td>0.0</td>\n",
       "      <td>Ol</td>\n",
       "      <td>1050</td>\n",
       "      <td>3050.046748</td>\n",
       "      <td>Dixon</td>\n",
       "      <td></td>\n",
       "    </tr>\n",
       "    <tr>\n",
       "      <th>SSH5B</th>\n",
       "      <td>68.0</td>\n",
       "      <td>0.41</td>\n",
       "      <td>16.2</td>\n",
       "      <td>0.233331</td>\n",
       "      <td>1.1900</td>\n",
       "      <td>0.0</td>\n",
       "      <td>0.60</td>\n",
       "      <td>4.20</td>\n",
       "      <td>4.20</td>\n",
       "      <td>1.60</td>\n",
       "      <td>...</td>\n",
       "      <td>0.0180</td>\n",
       "      <td>0.0</td>\n",
       "      <td>0.0</td>\n",
       "      <td>0.0</td>\n",
       "      <td>0.0</td>\n",
       "      <td>Pyx</td>\n",
       "      <td>1050</td>\n",
       "      <td>3319.092688</td>\n",
       "      <td>Dixon</td>\n",
       "      <td></td>\n",
       "    </tr>\n",
       "    <tr>\n",
       "      <th>SSH4_3</th>\n",
       "      <td>63.0</td>\n",
       "      <td>0.62</td>\n",
       "      <td>16.0</td>\n",
       "      <td>0.699993</td>\n",
       "      <td>3.5700</td>\n",
       "      <td>0.0</td>\n",
       "      <td>1.10</td>\n",
       "      <td>4.30</td>\n",
       "      <td>3.30</td>\n",
       "      <td>0.90</td>\n",
       "      <td>...</td>\n",
       "      <td>0.0140</td>\n",
       "      <td>0.0</td>\n",
       "      <td>0.0</td>\n",
       "      <td>0.0</td>\n",
       "      <td>0.0</td>\n",
       "      <td>Pyx</td>\n",
       "      <td>1050</td>\n",
       "      <td>2742.753642</td>\n",
       "      <td>Dixon</td>\n",
       "      <td></td>\n",
       "    </tr>\n",
       "  </tbody>\n",
       "</table>\n",
       "<p>8 rows × 21 columns</p>\n",
       "</div>"
      ],
      "text/plain": [
       "         SiO2  TiO2  Al2O3     Fe2O3     FeO  MnO   MgO   CaO  Na2O   K2O  \\\n",
       "SSH4_1   64.6  0.86   16.4  0.663327  3.3830  0.0  0.87  4.53  4.08  1.05   \n",
       "SSH4_2   63.6  0.59   16.5  0.573328  2.9240  0.0  0.78  4.24  4.31  0.97   \n",
       "SSH10_1  58.7  0.68   15.0  0.928324  4.7345  0.0  2.36  5.70  2.13  2.22   \n",
       "SSH5B_1  67.6  0.48   17.0  0.079999  0.4080  0.0  0.02  3.14  4.51  1.58   \n",
       "SSH5B_2  67.2  0.70   16.9  0.076666  0.3910  0.0  0.02  3.31  4.49  1.60   \n",
       "SSH10    60.3  0.81   15.8  0.914991  4.6665  0.0  2.80  6.56  1.94  0.32   \n",
       "SSH5B    68.0  0.41   16.2  0.233331  1.1900  0.0  0.60  4.20  4.20  1.60   \n",
       "SSH4_3   63.0  0.62   16.0  0.699993  3.5700  0.0  1.10  4.30  3.30  0.90   \n",
       "\n",
       "         ...     CO2  Cr2O3  NiO  CoO  P2O5  Phase  Temp  \\\n",
       "SSH4_1   ...  0.0105    0.0  0.0  0.0   0.0    Pyx  1050   \n",
       "SSH4_2   ...  0.0071    0.0  0.0  0.0   0.0    Pyx  1050   \n",
       "SSH10_1  ...  0.0313    0.0  0.0  0.0   0.0     Ol  1050   \n",
       "SSH5B_1  ...  0.0043    0.0  0.0  0.0   0.0  Pyx_2  1050   \n",
       "SSH5B_2  ...  0.0052    0.0  0.0  0.0   0.0    Pyx  1050   \n",
       "SSH10    ...  0.0250    0.0  0.0  0.0   0.0     Ol  1050   \n",
       "SSH5B    ...  0.0180    0.0  0.0  0.0   0.0    Pyx  1050   \n",
       "SSH4_3   ...  0.0140    0.0  0.0  0.0   0.0    Pyx  1050   \n",
       "\n",
       "         SaturationP_bars_VESIcal  Model Warnings  \n",
       "SSH4_1                2635.481101  Dixon           \n",
       "SSH4_2                2578.048128  Dixon           \n",
       "SSH10_1               3511.902596  Dixon           \n",
       "SSH5B_1               3460.577410  Dixon           \n",
       "SSH5B_2               2870.231303  Dixon           \n",
       "SSH10                 3050.046748  Dixon           \n",
       "SSH5B                 3319.092688  Dixon           \n",
       "SSH4_3                2742.753642  Dixon           \n",
       "\n",
       "[8 rows x 21 columns]"
      ]
     },
     "execution_count": 22,
     "metadata": {},
     "output_type": "execute_result"
    }
   ],
   "source": [
    "Sat_P_Dixon=myfile.calculate_saturation_pressure(temperature=\"Temp\", model=\"Dixon\")\n",
    "Sat_P_Dixon"
   ]
  },
  {
   "cell_type": "markdown",
   "id": "9a12d498-0c6a-40e4-9e3c-ace45d48f725",
   "metadata": {},
   "source": [
    "## Example plot to look at differences between models"
   ]
  },
  {
   "cell_type": "code",
   "execution_count": 23,
   "id": "bd1ae982-29d8-4c6f-9cf0-f88798d4e49b",
   "metadata": {},
   "outputs": [
    {
     "name": "stderr",
     "output_type": "stream",
     "text": [
      "findfont: Font family ['arial'] not found. Falling back to DejaVu Sans.\n",
      "findfont: Font family ['arial'] not found. Falling back to DejaVu Sans.\n"
     ]
    },
    {
     "data": {
      "image/png": "[encoded data removed]",
      "text/plain": [
       "<Figure size 720x360 with 2 Axes>"
      ]
     },
     "metadata": {
      "needs_background": "light"
     },
     "output_type": "display_data"
    }
   ],
   "source": [
    "fig, (ax1, ax2) = plt.subplots(1, 2, figsize=(10,5)) # Sets up plotting environment as 2 side by side panels\n",
    "\n",
    "ax1.plot(Sat_P_Dixon['SaturationP_bars_VESIcal'], Sat_P_MagmaSat['SaturationP_bars_VESIcal'], 'ok') # scatter plot, dixon vs. Magmasat\n",
    "ax1.plot([2000, 3000], [2000, 3000], '-r', label='1:1 line')\n",
    "ax1.legend()\n",
    "ax1.set_xlabel('Saturation Pressure Dixon (bars)');\n",
    "ax1.set_ylabel('Saturation Pressure \\n MagmaSat (bars)');\n",
    "\n",
    "ax2.plot(Sat_P_MagmaSat['SiO2'], Sat_P_Dixon['SaturationP_bars_VESIcal']/Sat_P_MagmaSat['SaturationP_bars_VESIcal'],  'ok')\n",
    "ax2.set_ylabel('Saturation Pressure \\n  (Dixon/MagmaSat)')\n",
    "ax2.set_xlabel('SiO$_2$ (wt%)')\n",
    "\n",
    "plt.tight_layout()"
   ]
  },
  {
   "cell_type": "markdown",
   "id": "9a651894-8c75-44ed-91c5-c744d71a2399",
   "metadata": {},
   "source": [
    "## Example 2 - Calculate dissolved volatiles"
   ]
  },
  {
   "cell_type": "markdown",
   "id": "07e62c55-1051-4f08-9e44-07dfbdab686a",
   "metadata": {},
   "source": [
    "### Two ways to do this - first, can type out a melt composition"
   ]
  },
  {
   "cell_type": "code",
   "execution_count": 24,
   "id": "eedf9c77-0545-4d88-848b-a1881af4d844",
   "metadata": {},
   "outputs": [],
   "source": [
    "SSH4_1 =v.Sample({'SiO2':  64.6,\n",
    " 'TiO2':     0.86,\n",
    " 'Al2O3':    16.4,\n",
    " 'Fe2O3':     0.663327,\n",
    " 'FeO':       3.3830,\n",
    " 'MgO':      0.87,\n",
    " 'CaO':      4.53,\n",
    " 'Na2O':      5,\n",
    " 'K2O':       1.05,\n",
    "'P2O5':     0.0105})\n"
   ]
  },
  {
   "cell_type": "code",
   "execution_count": 25,
   "id": "340e9291-e94c-4df3-a729-8fcce34a6ee2",
   "metadata": {},
   "outputs": [
    {
     "data": {
      "text/plain": [
       "{'H2O_liq': 3.70725768200104, 'CO2_liq': 0.0}"
      ]
     },
     "execution_count": 25,
     "metadata": {},
     "output_type": "execute_result"
    }
   ],
   "source": [
    "# X Fluid = 1, means in equilibrium with just H2O vapour\n",
    "Magmasat_diss_SSH4_1_H2O=v.calculate_dissolved_volatiles(sample=SSH4_1, pressure=1000,  temperature=1200, X_fluid=1).result\n",
    "Magmasat_diss_SSH4_1_H2O"
   ]
  },
  {
   "cell_type": "code",
   "execution_count": 26,
   "id": "9e0905c8-2c93-4920-b359-237507982d9e",
   "metadata": {},
   "outputs": [
    {
     "data": {
      "text/plain": [
       "{'H2O_liq': 0.0, 'CO2_liq': 0.048045102428479765}"
      ]
     },
     "execution_count": 26,
     "metadata": {},
     "output_type": "execute_result"
    }
   ],
   "source": [
    "# X Fluid = 0, means in equilibrium with just CO2 vapour\n",
    "Magmasat_diss_SSH4_1_CO2_liq=v.calculate_dissolved_volatiles(sample=SSH4_1, pressure=1000,  temperature=1200, X_fluid=0).result\n",
    "Magmasat_diss_SSH4_1_CO2_liq"
   ]
  },
  {
   "cell_type": "code",
   "execution_count": 27,
   "id": "4a6d6ebe-a0c5-4c62-96e0-3cee9e20d0c4",
   "metadata": {},
   "outputs": [
    {
     "data": {
      "text/plain": [
       "{'H2O_liq': 2.2439206824863063, 'CO2_liq': 0.031073843358327153}"
      ]
     },
     "execution_count": 27,
     "metadata": {},
     "output_type": "execute_result"
    }
   ],
   "source": [
    "# X Fluid = 0, means in equilibrium with just CO2 vapour\n",
    "Magmasat_diss_SSH4_1_CO22_liq=v.calculate_dissolved_volatiles(sample=SSH4_1, pressure=1000,  temperature=1200, X_fluid=0.5).result\n",
    "Magmasat_diss_SSH4_1_CO22_liq"
   ]
  },
  {
   "cell_type": "markdown",
   "id": "2f20cabf-8dca-4b96-ac2d-7bbb94e092df",
   "metadata": {},
   "source": [
    "## Otherwise can run for all compositions in a file. "
   ]
  },
  {
   "cell_type": "code",
   "execution_count": 31,
   "id": "262cc78c-eff5-4b08-81cc-43848c7737db",
   "metadata": {},
   "outputs": [
    {
     "name": "stdout",
     "output_type": "stream",
     "text": [
      "[====================] 100%  Working on sample SSH4_3                            \n"
     ]
    },
    {
     "data": {
      "text/html": [
       "<div>\n",
       "<style scoped>\n",
       "    .dataframe tbody tr th:only-of-type {\n",
       "        vertical-align: middle;\n",
       "    }\n",
       "\n",
       "    .dataframe tbody tr th {\n",
       "        vertical-align: top;\n",
       "    }\n",
       "\n",
       "    .dataframe thead th {\n",
       "        text-align: right;\n",
       "    }\n",
       "</style>\n",
       "<table border=\"1\" class=\"dataframe\">\n",
       "  <thead>\n",
       "    <tr style=\"text-align: right;\">\n",
       "      <th></th>\n",
       "      <th>SiO2</th>\n",
       "      <th>TiO2</th>\n",
       "      <th>Al2O3</th>\n",
       "      <th>Fe2O3</th>\n",
       "      <th>FeO</th>\n",
       "      <th>MnO</th>\n",
       "      <th>MgO</th>\n",
       "      <th>CaO</th>\n",
       "      <th>Na2O</th>\n",
       "      <th>K2O</th>\n",
       "      <th>...</th>\n",
       "      <th>P2O5</th>\n",
       "      <th>Phase</th>\n",
       "      <th>Temp</th>\n",
       "      <th>H2O_liq_VESIcal</th>\n",
       "      <th>CO2_liq_VESIcal</th>\n",
       "      <th>Temperature_C_VESIcal</th>\n",
       "      <th>Pressure_bars_VESIcal</th>\n",
       "      <th>X_fluid_input_VESIcal</th>\n",
       "      <th>Model</th>\n",
       "      <th>Warnings</th>\n",
       "    </tr>\n",
       "  </thead>\n",
       "  <tbody>\n",
       "    <tr>\n",
       "      <th>SSH4_1</th>\n",
       "      <td>64.6</td>\n",
       "      <td>0.86</td>\n",
       "      <td>16.4</td>\n",
       "      <td>0.663327</td>\n",
       "      <td>3.3830</td>\n",
       "      <td>0.0</td>\n",
       "      <td>0.87</td>\n",
       "      <td>4.53</td>\n",
       "      <td>4.08</td>\n",
       "      <td>1.05</td>\n",
       "      <td>...</td>\n",
       "      <td>0.0</td>\n",
       "      <td>Pyx</td>\n",
       "      <td>1050</td>\n",
       "      <td>1.605581</td>\n",
       "      <td>0.043298</td>\n",
       "      <td>1200</td>\n",
       "      <td>1000</td>\n",
       "      <td>0.3</td>\n",
       "      <td>MagmaSat</td>\n",
       "      <td></td>\n",
       "    </tr>\n",
       "    <tr>\n",
       "      <th>SSH4_2</th>\n",
       "      <td>63.6</td>\n",
       "      <td>0.59</td>\n",
       "      <td>16.5</td>\n",
       "      <td>0.573328</td>\n",
       "      <td>2.9240</td>\n",
       "      <td>0.0</td>\n",
       "      <td>0.78</td>\n",
       "      <td>4.24</td>\n",
       "      <td>4.31</td>\n",
       "      <td>0.97</td>\n",
       "      <td>...</td>\n",
       "      <td>0.0</td>\n",
       "      <td>Pyx</td>\n",
       "      <td>1050</td>\n",
       "      <td>1.618778</td>\n",
       "      <td>0.041776</td>\n",
       "      <td>1200</td>\n",
       "      <td>1000</td>\n",
       "      <td>0.3</td>\n",
       "      <td>MagmaSat</td>\n",
       "      <td></td>\n",
       "    </tr>\n",
       "    <tr>\n",
       "      <th>SSH10_1</th>\n",
       "      <td>58.7</td>\n",
       "      <td>0.68</td>\n",
       "      <td>15.0</td>\n",
       "      <td>0.928324</td>\n",
       "      <td>4.7345</td>\n",
       "      <td>0.0</td>\n",
       "      <td>2.36</td>\n",
       "      <td>5.70</td>\n",
       "      <td>2.13</td>\n",
       "      <td>2.22</td>\n",
       "      <td>...</td>\n",
       "      <td>0.0</td>\n",
       "      <td>Ol</td>\n",
       "      <td>1050</td>\n",
       "      <td>1.539873</td>\n",
       "      <td>0.048114</td>\n",
       "      <td>1200</td>\n",
       "      <td>1000</td>\n",
       "      <td>0.3</td>\n",
       "      <td>MagmaSat</td>\n",
       "      <td></td>\n",
       "    </tr>\n",
       "    <tr>\n",
       "      <th>SSH5B_1</th>\n",
       "      <td>67.6</td>\n",
       "      <td>0.48</td>\n",
       "      <td>17.0</td>\n",
       "      <td>0.079999</td>\n",
       "      <td>0.4080</td>\n",
       "      <td>0.0</td>\n",
       "      <td>0.02</td>\n",
       "      <td>3.14</td>\n",
       "      <td>4.51</td>\n",
       "      <td>1.58</td>\n",
       "      <td>...</td>\n",
       "      <td>0.0</td>\n",
       "      <td>Pyx_2</td>\n",
       "      <td>1050</td>\n",
       "      <td>1.663922</td>\n",
       "      <td>0.041058</td>\n",
       "      <td>1200</td>\n",
       "      <td>1000</td>\n",
       "      <td>0.3</td>\n",
       "      <td>MagmaSat</td>\n",
       "      <td></td>\n",
       "    </tr>\n",
       "    <tr>\n",
       "      <th>SSH5B_2</th>\n",
       "      <td>67.2</td>\n",
       "      <td>0.70</td>\n",
       "      <td>16.9</td>\n",
       "      <td>0.076666</td>\n",
       "      <td>0.3910</td>\n",
       "      <td>0.0</td>\n",
       "      <td>0.02</td>\n",
       "      <td>3.31</td>\n",
       "      <td>4.49</td>\n",
       "      <td>1.60</td>\n",
       "      <td>...</td>\n",
       "      <td>0.0</td>\n",
       "      <td>Pyx</td>\n",
       "      <td>1050</td>\n",
       "      <td>1.657953</td>\n",
       "      <td>0.041134</td>\n",
       "      <td>1200</td>\n",
       "      <td>1000</td>\n",
       "      <td>0.3</td>\n",
       "      <td>MagmaSat</td>\n",
       "      <td></td>\n",
       "    </tr>\n",
       "    <tr>\n",
       "      <th>SSH10</th>\n",
       "      <td>60.3</td>\n",
       "      <td>0.81</td>\n",
       "      <td>15.8</td>\n",
       "      <td>0.914991</td>\n",
       "      <td>4.6665</td>\n",
       "      <td>0.0</td>\n",
       "      <td>2.80</td>\n",
       "      <td>6.56</td>\n",
       "      <td>1.94</td>\n",
       "      <td>0.32</td>\n",
       "      <td>...</td>\n",
       "      <td>0.0</td>\n",
       "      <td>Ol</td>\n",
       "      <td>1050</td>\n",
       "      <td>1.540289</td>\n",
       "      <td>0.049288</td>\n",
       "      <td>1200</td>\n",
       "      <td>1000</td>\n",
       "      <td>0.3</td>\n",
       "      <td>MagmaSat</td>\n",
       "      <td></td>\n",
       "    </tr>\n",
       "    <tr>\n",
       "      <th>SSH5B</th>\n",
       "      <td>68.0</td>\n",
       "      <td>0.41</td>\n",
       "      <td>16.2</td>\n",
       "      <td>0.233331</td>\n",
       "      <td>1.1900</td>\n",
       "      <td>0.0</td>\n",
       "      <td>0.60</td>\n",
       "      <td>4.20</td>\n",
       "      <td>4.20</td>\n",
       "      <td>1.60</td>\n",
       "      <td>...</td>\n",
       "      <td>0.0</td>\n",
       "      <td>Pyx</td>\n",
       "      <td>1050</td>\n",
       "      <td>1.661480</td>\n",
       "      <td>0.042335</td>\n",
       "      <td>1200</td>\n",
       "      <td>1000</td>\n",
       "      <td>0.3</td>\n",
       "      <td>MagmaSat</td>\n",
       "      <td></td>\n",
       "    </tr>\n",
       "    <tr>\n",
       "      <th>SSH4_3</th>\n",
       "      <td>63.0</td>\n",
       "      <td>0.62</td>\n",
       "      <td>16.0</td>\n",
       "      <td>0.699993</td>\n",
       "      <td>3.5700</td>\n",
       "      <td>0.0</td>\n",
       "      <td>1.10</td>\n",
       "      <td>4.30</td>\n",
       "      <td>3.30</td>\n",
       "      <td>0.90</td>\n",
       "      <td>...</td>\n",
       "      <td>0.0</td>\n",
       "      <td>Pyx</td>\n",
       "      <td>1050</td>\n",
       "      <td>1.598809</td>\n",
       "      <td>0.045910</td>\n",
       "      <td>1200</td>\n",
       "      <td>1000</td>\n",
       "      <td>0.3</td>\n",
       "      <td>MagmaSat</td>\n",
       "      <td></td>\n",
       "    </tr>\n",
       "  </tbody>\n",
       "</table>\n",
       "<p>8 rows × 25 columns</p>\n",
       "</div>"
      ],
      "text/plain": [
       "         SiO2  TiO2  Al2O3     Fe2O3     FeO  MnO   MgO   CaO  Na2O   K2O  \\\n",
       "SSH4_1   64.6  0.86   16.4  0.663327  3.3830  0.0  0.87  4.53  4.08  1.05   \n",
       "SSH4_2   63.6  0.59   16.5  0.573328  2.9240  0.0  0.78  4.24  4.31  0.97   \n",
       "SSH10_1  58.7  0.68   15.0  0.928324  4.7345  0.0  2.36  5.70  2.13  2.22   \n",
       "SSH5B_1  67.6  0.48   17.0  0.079999  0.4080  0.0  0.02  3.14  4.51  1.58   \n",
       "SSH5B_2  67.2  0.70   16.9  0.076666  0.3910  0.0  0.02  3.31  4.49  1.60   \n",
       "SSH10    60.3  0.81   15.8  0.914991  4.6665  0.0  2.80  6.56  1.94  0.32   \n",
       "SSH5B    68.0  0.41   16.2  0.233331  1.1900  0.0  0.60  4.20  4.20  1.60   \n",
       "SSH4_3   63.0  0.62   16.0  0.699993  3.5700  0.0  1.10  4.30  3.30  0.90   \n",
       "\n",
       "         ...  P2O5  Phase  Temp  H2O_liq_VESIcal  CO2_liq_VESIcal  \\\n",
       "SSH4_1   ...   0.0    Pyx  1050         1.605581         0.043298   \n",
       "SSH4_2   ...   0.0    Pyx  1050         1.618778         0.041776   \n",
       "SSH10_1  ...   0.0     Ol  1050         1.539873         0.048114   \n",
       "SSH5B_1  ...   0.0  Pyx_2  1050         1.663922         0.041058   \n",
       "SSH5B_2  ...   0.0    Pyx  1050         1.657953         0.041134   \n",
       "SSH10    ...   0.0     Ol  1050         1.540289         0.049288   \n",
       "SSH5B    ...   0.0    Pyx  1050         1.661480         0.042335   \n",
       "SSH4_3   ...   0.0    Pyx  1050         1.598809         0.045910   \n",
       "\n",
       "         Temperature_C_VESIcal Pressure_bars_VESIcal  X_fluid_input_VESIcal  \\\n",
       "SSH4_1                    1200                  1000                    0.3   \n",
       "SSH4_2                    1200                  1000                    0.3   \n",
       "SSH10_1                   1200                  1000                    0.3   \n",
       "SSH5B_1                   1200                  1000                    0.3   \n",
       "SSH5B_2                   1200                  1000                    0.3   \n",
       "SSH10                     1200                  1000                    0.3   \n",
       "SSH5B                     1200                  1000                    0.3   \n",
       "SSH4_3                    1200                  1000                    0.3   \n",
       "\n",
       "            Model  Warnings  \n",
       "SSH4_1   MagmaSat            \n",
       "SSH4_2   MagmaSat            \n",
       "SSH10_1  MagmaSat            \n",
       "SSH5B_1  MagmaSat            \n",
       "SSH5B_2  MagmaSat            \n",
       "SSH10    MagmaSat            \n",
       "SSH5B    MagmaSat            \n",
       "SSH4_3   MagmaSat            \n",
       "\n",
       "[8 rows x 25 columns]"
      ]
     },
     "execution_count": 31,
     "metadata": {},
     "output_type": "execute_result"
    }
   ],
   "source": [
    "calc_diss_all=myfile.calculate_dissolved_volatiles(pressure=1000,  temperature=1200, X_fluid=0.3)\n",
    "calc_diss_all"
   ]
  },
  {
   "cell_type": "markdown",
   "id": "74dc8851-addc-4ea4-a61f-8ebe3083ac2e",
   "metadata": {},
   "source": [
    "# Example 3 - Calculating degassing paths"
   ]
  },
  {
   "cell_type": "code",
   "execution_count": 32,
   "id": "02648521-04aa-4294-895e-3d3e0530a3fc",
   "metadata": {},
   "outputs": [],
   "source": [
    "# Set volatile content of sample here\n",
    "SSH4_1_moreCO2 =v.Sample({'SiO2':  64.6,\n",
    " 'TiO2':     0.86,\n",
    " 'Al2O3':    16.4,\n",
    " 'Fe2O3':     0.663327,\n",
    " 'FeO':       3.3830,\n",
    " 'MgO':      0.87,\n",
    " 'CaO':      4.53,\n",
    " 'Na2O':      4.08,\n",
    " 'K2O':       1.05,\n",
    "'P2O5':     0.0105,\n",
    "'H2O': 6,\n",
    "'CO2': 0.03})\n"
   ]
  },
  {
   "cell_type": "code",
   "execution_count": 33,
   "id": "4eea372e-bb5a-4934-a788-fed6036d2901",
   "metadata": {},
   "outputs": [
    {
     "name": "stdout",
     "output_type": "stream",
     "text": [
      "[====================] 100% Calculating degassing path...\n"
     ]
    }
   ],
   "source": [
    "closed_df = v.calculate_degassing_path(sample=SSH4_1_moreCO2, temperature=1200.0, fractionate_vapor=0).result"
   ]
  },
  {
   "cell_type": "code",
   "execution_count": 34,
   "id": "430748fa-dcc9-4119-84f9-0b48d738ebbb",
   "metadata": {},
   "outputs": [
    {
     "name": "stdout",
     "output_type": "stream",
     "text": [
      "[====================] 100% Calculating degassing path...\n"
     ]
    }
   ],
   "source": [
    "open_df = v.calculate_degassing_path(sample=SSH4_1_moreCO2, temperature=1200.0, fractionate_vapor=1).result"
   ]
  },
  {
   "cell_type": "code",
   "execution_count": 35,
   "id": "943f079e-39e1-4fd4-a3bb-ff41a59385ff",
   "metadata": {},
   "outputs": [
    {
     "name": "stdout",
     "output_type": "stream",
     "text": [
      "[====================] 100% Calculating degassing path...\n"
     ]
    }
   ],
   "source": [
    "# Set amount of initial vapour\n",
    "closed_df_2init = v.calculate_degassing_path(sample=SSH4_1_moreCO2, temperature=1200.0, fractionate_vapor=0, init_vapor=2.0).result"
   ]
  },
  {
   "cell_type": "code",
   "execution_count": 36,
   "id": "16981532-b270-4a47-bb2e-e075f3cfb310",
   "metadata": {},
   "outputs": [
    {
     "data": {
      "text/plain": [
       "<matplotlib.legend.Legend at 0x7fdac4985700>"
      ]
     },
     "execution_count": 36,
     "metadata": {},
     "output_type": "execute_result"
    },
    {
     "data": {
      "image/png": "[encoded data removed]",
      "text/plain": [
       "<Figure size 432x288 with 1 Axes>"
      ]
     },
     "metadata": {
      "needs_background": "light"
     },
     "output_type": "display_data"
    }
   ],
   "source": [
    "# Less pretty plot - using plt.\n",
    "plt.plot(data['H2O'], data['CO2'], 'ok')\n",
    "plt.plot(closed_df['H2O_liq'], closed_df['CO2_liq'], '-r', label='closed')\n",
    "plt.plot(closed_df_2init['H2O_liq'], closed_df_2init['CO2_liq'], ':r', label='closed, 2% init vapour')\n",
    "\n",
    "plt.plot(open_df['H2O_liq'], open_df['CO2_liq'], '-b',  label='open')\n",
    "\n",
    "plt.xlabel('H$_2$O (wt%)')\n",
    "plt.ylabel('CO$_2$ (wt%)')\n",
    "plt.legend()"
   ]
  },
  {
   "cell_type": "markdown",
   "id": "206218b6-b73a-43aa-bd71-2530bae0fb99",
   "metadata": {},
   "source": [
    "## Or can use default VESIcal plotting"
   ]
  },
  {
   "cell_type": "code",
   "execution_count": 37,
   "id": "e0d180f2-7739-4e69-a925-636a299e157c",
   "metadata": {},
   "outputs": [
    {
     "data": {
      "text/plain": [
       "(<Figure size 864x576 with 1 Axes>,\n",
       " <AxesSubplot:xlabel='H$_2$O wt%', ylabel='CO$_2$ wt%'>)"
      ]
     },
     "execution_count": 37,
     "metadata": {},
     "output_type": "execute_result"
    },
    {
     "data": {
      "image/png": "[encoded data removed]",
      "text/plain": [
       "<Figure size 864x576 with 1 Axes>"
      ]
     },
     "metadata": {
      "needs_background": "light"
     },
     "output_type": "display_data"
    }
   ],
   "source": [
    "v.plot(degassing_paths=open_df)"
   ]
  },
  {
   "cell_type": "markdown",
   "id": "b437014c-102d-42a7-b201-2230f89efbc8",
   "metadata": {},
   "source": [
    "# Example 4 - Drawing isobars"
   ]
  },
  {
   "cell_type": "markdown",
   "id": "70f1a685-0889-4ad3-8881-39011536cae4",
   "metadata": {},
   "source": [
    "## As for all calculations, can run in single sample or batch mode"
   ]
  },
  {
   "cell_type": "code",
   "execution_count": 38,
   "id": "db193c5b-753d-4353-87e7-43805017e368",
   "metadata": {},
   "outputs": [
    {
     "name": "stdout",
     "output_type": "stream",
     "text": [
      "Calculating isobar at 1000 bars\n",
      " done.                                                                                                                           \n",
      "Calculating isobar at 2000 bars\n",
      " done.                                                                                                                           \n",
      "Done!\n"
     ]
    }
   ],
   "source": [
    "# Here running on single sample composition at the top of the folder\n",
    "temperature=1200\n",
    "pressures=[1000, 2000]\n",
    "\n",
    "isobars_MagmaSat_ind, isopleths_MagmaSat_ind = v.calculate_isobars_and_isopleths(sample=SSH4_1, smooth_isobars=False,\n",
    "                                            temperature=temperature,\n",
    "                                            pressure_list=pressures,\n",
    "                                            isopleth_list=[0, 0.01, 0.25, 0.5, 0.75],\n",
    "                                            print_status=True).result\n",
    "smoothed_isobars_MagmaSat_ind = v.vplot.smooth_isobars_and_isopleths(isobars_MagmaSat_ind)"
   ]
  },
  {
   "cell_type": "code",
   "execution_count": 39,
   "id": "1ed68e31-a72c-47f8-be7e-5e32fb23ffb8",
   "metadata": {},
   "outputs": [
    {
     "data": {
      "text/plain": [
       "<matplotlib.legend.Legend at 0x7fdac4597100>"
      ]
     },
     "execution_count": 39,
     "metadata": {},
     "output_type": "execute_result"
    },
    {
     "data": {
      "image/png": "[encoded data removed]",
      "text/plain": [
       "<Figure size 432x288 with 1 Axes>"
      ]
     },
     "metadata": {
      "needs_background": "light"
     },
     "output_type": "display_data"
    }
   ],
   "source": [
    "## First output is unsmoothed\n",
    "plt.plot(isobars_MagmaSat_ind['H2O_liq'], isobars_MagmaSat_ind['CO2_liq'], 'ok', label='Calc')\n",
    "# Second output is a fit through these points\n",
    "plt.plot(smoothed_isobars_MagmaSat_ind['H2O_liq'], smoothed_isobars_MagmaSat_ind['CO2_liq'], '.r', ms=3, label='fitted')\n",
    "plt.legend()"
   ]
  },
  {
   "cell_type": "code",
   "execution_count": 40,
   "id": "20fcace6-55f9-4717-95b8-1a42a4273621",
   "metadata": {},
   "outputs": [
    {
     "data": {
      "text/html": [
       "<div>\n",
       "<style scoped>\n",
       "    .dataframe tbody tr th:only-of-type {\n",
       "        vertical-align: middle;\n",
       "    }\n",
       "\n",
       "    .dataframe tbody tr th {\n",
       "        vertical-align: top;\n",
       "    }\n",
       "\n",
       "    .dataframe thead th {\n",
       "        text-align: right;\n",
       "    }\n",
       "</style>\n",
       "<table border=\"1\" class=\"dataframe\">\n",
       "  <thead>\n",
       "    <tr style=\"text-align: right;\">\n",
       "      <th></th>\n",
       "      <th>Pressure</th>\n",
       "      <th>H2O_liq</th>\n",
       "      <th>CO2_liq</th>\n",
       "    </tr>\n",
       "  </thead>\n",
       "  <tbody>\n",
       "    <tr>\n",
       "      <th>0</th>\n",
       "      <td>1000</td>\n",
       "      <td>0.000000</td>\n",
       "      <td>0.048046</td>\n",
       "    </tr>\n",
       "    <tr>\n",
       "      <th>1</th>\n",
       "      <td>1000</td>\n",
       "      <td>0.075658</td>\n",
       "      <td>0.048448</td>\n",
       "    </tr>\n",
       "    <tr>\n",
       "      <th>2</th>\n",
       "      <td>1000</td>\n",
       "      <td>0.151317</td>\n",
       "      <td>0.048767</td>\n",
       "    </tr>\n",
       "    <tr>\n",
       "      <th>3</th>\n",
       "      <td>1000</td>\n",
       "      <td>0.226975</td>\n",
       "      <td>0.049004</td>\n",
       "    </tr>\n",
       "    <tr>\n",
       "      <th>4</th>\n",
       "      <td>1000</td>\n",
       "      <td>0.302633</td>\n",
       "      <td>0.049163</td>\n",
       "    </tr>\n",
       "    <tr>\n",
       "      <th>...</th>\n",
       "      <td>...</td>\n",
       "      <td>...</td>\n",
       "      <td>...</td>\n",
       "    </tr>\n",
       "    <tr>\n",
       "      <th>95</th>\n",
       "      <td>2000</td>\n",
       "      <td>5.244252</td>\n",
       "      <td>0.015054</td>\n",
       "    </tr>\n",
       "    <tr>\n",
       "      <th>96</th>\n",
       "      <td>2000</td>\n",
       "      <td>5.360791</td>\n",
       "      <td>0.011349</td>\n",
       "    </tr>\n",
       "    <tr>\n",
       "      <th>97</th>\n",
       "      <td>2000</td>\n",
       "      <td>5.477330</td>\n",
       "      <td>0.007606</td>\n",
       "    </tr>\n",
       "    <tr>\n",
       "      <th>98</th>\n",
       "      <td>2000</td>\n",
       "      <td>5.593869</td>\n",
       "      <td>0.003829</td>\n",
       "    </tr>\n",
       "    <tr>\n",
       "      <th>99</th>\n",
       "      <td>2000</td>\n",
       "      <td>5.710408</td>\n",
       "      <td>0.000021</td>\n",
       "    </tr>\n",
       "  </tbody>\n",
       "</table>\n",
       "<p>100 rows × 3 columns</p>\n",
       "</div>"
      ],
      "text/plain": [
       "    Pressure   H2O_liq   CO2_liq\n",
       "0       1000  0.000000  0.048046\n",
       "1       1000  0.075658  0.048448\n",
       "2       1000  0.151317  0.048767\n",
       "3       1000  0.226975  0.049004\n",
       "4       1000  0.302633  0.049163\n",
       "..       ...       ...       ...\n",
       "95      2000  5.244252  0.015054\n",
       "96      2000  5.360791  0.011349\n",
       "97      2000  5.477330  0.007606\n",
       "98      2000  5.593869  0.003829\n",
       "99      2000  5.710408  0.000021\n",
       "\n",
       "[100 rows x 3 columns]"
      ]
     },
     "execution_count": 40,
     "metadata": {},
     "output_type": "execute_result"
    }
   ],
   "source": [
    "smoothed_isobars_MagmaSat_ind"
   ]
  },
  {
   "cell_type": "code",
   "execution_count": 41,
   "id": "67ab6680-adbf-481a-b679-c7cd6ad64ae2",
   "metadata": {},
   "outputs": [
    {
     "data": {
      "text/plain": [
       "0     0.000000\n",
       "1     0.075658\n",
       "2     0.151317\n",
       "3     0.226975\n",
       "4     0.302633\n",
       "5     0.378292\n",
       "6     0.453950\n",
       "7     0.529608\n",
       "8     0.605267\n",
       "9     0.680925\n",
       "10    0.756583\n",
       "11    0.832242\n",
       "12    0.907900\n",
       "13    0.983558\n",
       "14    1.059216\n",
       "15    1.134875\n",
       "16    1.210533\n",
       "17    1.286191\n",
       "18    1.361850\n",
       "19    1.437508\n",
       "20    1.513166\n",
       "21    1.588825\n",
       "22    1.664483\n",
       "23    1.740141\n",
       "24    1.815800\n",
       "25    1.891458\n",
       "26    1.967116\n",
       "27    2.042775\n",
       "28    2.118433\n",
       "29    2.194091\n",
       "30    2.269750\n",
       "31    2.345408\n",
       "32    2.421066\n",
       "33    2.496725\n",
       "34    2.572383\n",
       "35    2.648041\n",
       "36    2.723700\n",
       "37    2.799358\n",
       "38    2.875016\n",
       "39    2.950674\n",
       "40    3.026333\n",
       "41    3.101991\n",
       "42    3.177649\n",
       "43    3.253308\n",
       "44    3.328966\n",
       "45    3.404624\n",
       "46    3.480283\n",
       "47    3.555941\n",
       "48    3.631599\n",
       "49    3.707258\n",
       "Name: H2O_liq, dtype: float64"
      ]
     },
     "execution_count": 41,
     "metadata": {},
     "output_type": "execute_result"
    }
   ],
   "source": [
    "smoothed_isobars_MagmaSat_ind.loc[smoothed_isobars_MagmaSat_ind['Pressure']==1000, 'H2O_liq']"
   ]
  },
  {
   "cell_type": "markdown",
   "id": "983d4039-7065-4e72-9130-621d688bf078",
   "metadata": {},
   "source": [
    "### Might want to plot them as different colors\n",
    "- We can use the pandas loc function, to find all the rows where Pressure=1000 bars, and 2000 bars and plot them as different colors"
   ]
  },
  {
   "cell_type": "code",
   "execution_count": 42,
   "id": "a75bb4d8-247d-46a5-bd94-d26330fac6c2",
   "metadata": {},
   "outputs": [
    {
     "data": {
      "text/plain": [
       "[<matplotlib.lines.Line2D at 0x7fdac5091c70>]"
      ]
     },
     "execution_count": 42,
     "metadata": {},
     "output_type": "execute_result"
    },
    {
     "data": {
      "image/png": "[encoded data removed]",
      "text/plain": [
       "<Figure size 432x288 with 1 Axes>"
      ]
     },
     "metadata": {
      "needs_background": "light"
     },
     "output_type": "display_data"
    }
   ],
   "source": [
    "# Plotting 1 kbar isobar\n",
    "plt.plot(smoothed_isobars_MagmaSat_ind.loc[smoothed_isobars_MagmaSat_ind['Pressure']==1000, 'H2O_liq'], \n",
    "          smoothed_isobars_MagmaSat_ind.loc[smoothed_isobars_MagmaSat_ind['Pressure']==1000, 'CO2_liq'],     \n",
    "         '-r')\n",
    "# 2 kbar isobar\n",
    "plt.plot(smoothed_isobars_MagmaSat_ind.loc[smoothed_isobars_MagmaSat_ind['Pressure']==2000, 'H2O_liq'], \n",
    "          smoothed_isobars_MagmaSat_ind.loc[smoothed_isobars_MagmaSat_ind['Pressure']==2000, 'CO2_liq'],     \n",
    "         '-b')"
   ]
  },
  {
   "cell_type": "markdown",
   "id": "33487017-004e-4b7f-9660-7f91520ee32d",
   "metadata": {},
   "source": [
    "## Or can use VESIcal plotting functions"
   ]
  },
  {
   "cell_type": "code",
   "execution_count": 43,
   "id": "a21d2574-3619-4705-b473-1d8f2ab4512c",
   "metadata": {},
   "outputs": [
    {
     "data": {
      "image/png": "[encoded data removed]",
      "text/plain": [
       "<Figure size 864x576 with 1 Axes>"
      ]
     },
     "metadata": {
      "needs_background": "light"
     },
     "output_type": "display_data"
    }
   ],
   "source": [
    "fig, ax = v.plot(isobars=smoothed_isobars_MagmaSat_ind)"
   ]
  },
  {
   "cell_type": "markdown",
   "id": "3556b00f-8d25-49d1-b198-a401f0daa817",
   "metadata": {},
   "source": [
    "## Calculating for entire file \n",
    "- No built in function, as this is extremely computationally expensive"
   ]
  },
  {
   "cell_type": "code",
   "execution_count": 44,
   "id": "b8d4e83b-cf29-4160-9602-15d4e015fc79",
   "metadata": {},
   "outputs": [
    {
     "name": "stdout",
     "output_type": "stream",
     "text": [
      "Calculating isobar at 1000 bars\n",
      " done.                                                                                                                           \n",
      "Done!\n",
      "done a sample\n",
      "Calculating isobar at 1000 bars\n",
      " done.                                                                                                                           \n",
      "Done!\n",
      "done a sample\n",
      "Calculating isobar at 1000 bars\n",
      " done.                                                                                                                           \n",
      "Done!\n",
      "done a sample\n",
      "Calculating isobar at 1000 bars\n",
      " done.                                                                                                                           \n",
      "Done!\n",
      "done a sample\n",
      "Calculating isobar at 1000 bars\n",
      " done.                                                                                                                           \n",
      "Done!\n",
      "done a sample\n",
      "Calculating isobar at 1000 bars\n",
      " done.                                                                                                                           \n",
      "Done!\n",
      "done a sample\n",
      "Calculating isobar at 1000 bars\n",
      " done.                                                                                                                           \n",
      "Done!\n",
      "done a sample\n",
      "Calculating isobar at 1000 bars\n",
      " done.                                                                                                                           \n",
      "Done!\n",
      "done a sample\n"
     ]
    }
   ],
   "source": [
    "isobar_list_1000bars = []\n",
    "for index, row in myfile.data.iterrows():\n",
    "    isobar_list_1000bars.append(v.calculate_isobars_and_isopleths(sample=myfile.get_sample_composition(samplename=row.name, asSampleClass=True), \n",
    "                                        temperature=1100, pressure_list=[1000], isopleth_list=[0.25, 0.5, 0.75], \n",
    "                                                                   print_status=True).result[0])\n",
    "    print(\"done a sample\")\n",
    " "
   ]
  },
  {
   "cell_type": "code",
   "execution_count": 45,
   "id": "df4f3e57-98cb-45e3-9031-d6112e9d3173",
   "metadata": {},
   "outputs": [
    {
     "data": {
      "text/plain": [
       "Text(0, 0.5, 'CO$_2$ (wt%)')"
      ]
     },
     "execution_count": 45,
     "metadata": {},
     "output_type": "execute_result"
    },
    {
     "data": {
      "image/png": "[encoded data removed]",
      "text/plain": [
       "<Figure size 432x288 with 1 Axes>"
      ]
     },
     "metadata": {
      "needs_background": "light"
     },
     "output_type": "display_data"
    }
   ],
   "source": [
    "\n",
    "for i in range(0, len(data['H2O'])):\n",
    "    plt.plot(isobar_list_1000bars[i].H2O_liq, isobar_list_1000bars[i].CO2_liq, color='grey', linewidth=1) # This is 50 Mpa\n",
    "plt.xlabel('H$_2$O (wt%)')#\n",
    "plt.ylabel('CO$_2$ (wt%)')"
   ]
  },
  {
   "cell_type": "code",
   "execution_count": null,
   "id": "c976f138-ec0c-4773-941f-23f05fa40153",
   "metadata": {},
   "outputs": [],
   "source": []
  },
  {
   "cell_type": "code",
   "execution_count": null,
   "id": "3a2328b7-5b75-45e5-9219-30076c82c270",
   "metadata": {},
   "outputs": [],
   "source": []
  }
 ],
 "metadata": {
  "kernelspec": {
   "display_name": "Python 3 (ipykernel)",
   "language": "python",
   "name": "python3"
  },
  "language_info": {
   "codemirror_mode": {
    "name": "ipython",
    "version": 3
   },
   "file_extension": ".py",
   "mimetype": "text/x-python",
   "name": "python",
   "nbconvert_exporter": "python",
   "pygments_lexer": "ipython3",
   "version": "3.9.7"
  }
 },
 "nbformat": 4,
 "nbformat_minor": 5
}
